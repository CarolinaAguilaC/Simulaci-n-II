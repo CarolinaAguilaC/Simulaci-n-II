{
  "nbformat": 4,
  "nbformat_minor": 0,
  "metadata": {
    "colab": {
      "provenance": [],
      "authorship_tag": "ABX9TyOJG+EjwXZKNA/m2N1ovvzs",
      "include_colab_link": true
    },
    "kernelspec": {
      "name": "ir",
      "display_name": "R"
    },
    "language_info": {
      "name": "R"
    }
  },
  "cells": [
    {
      "cell_type": "markdown",
      "metadata": {
        "id": "view-in-github",
        "colab_type": "text"
      },
      "source": [
        "<a href=\"https://colab.research.google.com/github/CarolinaAguilaC/Simulaci-n-II/blob/main/lanzamiento.ipynb\" target=\"_parent\"><img src=\"https://colab.research.google.com/assets/colab-badge.svg\" alt=\"Open In Colab\"/></a>"
      ]
    },
    {
      "cell_type": "code",
      "metadata": {
        "colab": {
          "base_uri": "https://localhost:8080/",
          "height": 1000
        },
        "id": "VJIlEBcpMOjM",
        "outputId": "ef2f252a-5710-456d-e4e8-efbaaf40d804"
      },
      "source": [
        "\n",
        "#Simulamos el lanzamiento de un dado\n",
        "sample(1:6,1)\n",
        "\n",
        "#Ejercicio: simula el lanzamiento de 5, 100 dados\n",
        "\n",
        "#la simulación\n",
        "sample(1:6,100, replace = TRUE)\n",
        "\n",
        "#Ejercicio: Considera una urna con bolas numeradas del 1 al 1000\n",
        "#a)simular la extracción con reemplazo de dos bolas\n",
        "\n",
        "#b)simular la extracción sin reemplazo de dos bolas\n",
        "\n",
        "#Simular una extracción de una urna con 2 bolas blancas y 3 bolas rojas\n",
        "sample(c(\"b\",\"b\",\"r\",\"r\"\n",
        "         ,\"r\"), 1)\n",
        "sample(c(0,0,1,1,1), 1)\n",
        "sample(0:1,1000,replace=TRUE, c(2,3))\n",
        "\n",
        "#Investigamos si salen en esa proporción\n",
        "urna<-table(sample(0:1,1000,replace=TRUE, c(2,3)))\n",
        "barplot(urna)\n",
        "\n",
        "#Ejercicio: simula un dado cargado donde la probabilidad del 6 sea 5 veces más que los demás\n",
        "#Tarea:simula un dado cargado donde la probabilidad de cada cara sea proporcional al número de puntos en ella\n",
        "\n",
        "#Simular lanzamiento de dos monedas\n",
        "sample(0:1, 2,replace=TRUE,c(0.75,0.25))\n",
        "#PAra guardar las repreticiones de este experimento usamos la función replicate\n",
        "numRepeticiones = 10\n",
        "repeticiones = replicate(n = numRepeticiones,{\n",
        "  partida = sample(0:1, size = 2, replace = TRUE)\n",
        "})\n",
        "class(repeticiones)\n",
        "dim(repeticiones)\n",
        "repeticiones=t(repeticiones) ##la transponemos\n",
        "\n",
        "#si queremos estudiar el evento en que sale al menos un águila\n",
        "repeticiones == 1\n",
        "(filasConAguila = (rowSums(repeticiones == 1) > 0))\n",
        "\n",
        "#Calculamos la frecuencia de aparición\n",
        "cumsum(filasConAguila)[10]/numRepeticiones\n",
        "\n",
        "\n"
      ],
      "execution_count": null,
      "outputs": [
        {
          "output_type": "display_data",
          "data": {
            "text/plain": [
              "[1] 5"
            ],
            "text/latex": "5",
            "text/markdown": "5",
            "text/html": [
              "5"
            ]
          },
          "metadata": {}
        },
        {
          "output_type": "display_data",
          "data": {
            "text/plain": [
              "  [1] 5 1 5 5 1 3 1 5 6 4 2 2 3 3 4 6 3 4 5 1 2 3 6 2 3 6 5 5 2 3 5 4 5 6 6 2 2\n",
              " [38] 1 1 1 3 1 5 6 4 3 2 6 5 5 5 4 2 4 5 4 6 1 5 1 4 2 4 5 3 6 5 2 4 5 2 5 5 1\n",
              " [75] 3 4 2 3 3 3 1 3 5 1 3 1 3 2 1 2 5 3 5 4 5 5 6 6 1 6"
            ],
            "text/latex": "\\begin{enumerate*}\n\\item 5\n\\item 1\n\\item 5\n\\item 5\n\\item 1\n\\item 3\n\\item 1\n\\item 5\n\\item 6\n\\item 4\n\\item 2\n\\item 2\n\\item 3\n\\item 3\n\\item 4\n\\item 6\n\\item 3\n\\item 4\n\\item 5\n\\item 1\n\\item 2\n\\item 3\n\\item 6\n\\item 2\n\\item 3\n\\item 6\n\\item 5\n\\item 5\n\\item 2\n\\item 3\n\\item 5\n\\item 4\n\\item 5\n\\item 6\n\\item 6\n\\item 2\n\\item 2\n\\item 1\n\\item 1\n\\item 1\n\\item 3\n\\item 1\n\\item 5\n\\item 6\n\\item 4\n\\item 3\n\\item 2\n\\item 6\n\\item 5\n\\item 5\n\\item 5\n\\item 4\n\\item 2\n\\item 4\n\\item 5\n\\item 4\n\\item 6\n\\item 1\n\\item 5\n\\item 1\n\\item 4\n\\item 2\n\\item 4\n\\item 5\n\\item 3\n\\item 6\n\\item 5\n\\item 2\n\\item 4\n\\item 5\n\\item 2\n\\item 5\n\\item 5\n\\item 1\n\\item 3\n\\item 4\n\\item 2\n\\item 3\n\\item 3\n\\item 3\n\\item 1\n\\item 3\n\\item 5\n\\item 1\n\\item 3\n\\item 1\n\\item 3\n\\item 2\n\\item 1\n\\item 2\n\\item 5\n\\item 3\n\\item 5\n\\item 4\n\\item 5\n\\item 5\n\\item 6\n\\item 6\n\\item 1\n\\item 6\n\\end{enumerate*}\n",
            "text/markdown": "1. 5\n2. 1\n3. 5\n4. 5\n5. 1\n6. 3\n7. 1\n8. 5\n9. 6\n10. 4\n11. 2\n12. 2\n13. 3\n14. 3\n15. 4\n16. 6\n17. 3\n18. 4\n19. 5\n20. 1\n21. 2\n22. 3\n23. 6\n24. 2\n25. 3\n26. 6\n27. 5\n28. 5\n29. 2\n30. 3\n31. 5\n32. 4\n33. 5\n34. 6\n35. 6\n36. 2\n37. 2\n38. 1\n39. 1\n40. 1\n41. 3\n42. 1\n43. 5\n44. 6\n45. 4\n46. 3\n47. 2\n48. 6\n49. 5\n50. 5\n51. 5\n52. 4\n53. 2\n54. 4\n55. 5\n56. 4\n57. 6\n58. 1\n59. 5\n60. 1\n61. 4\n62. 2\n63. 4\n64. 5\n65. 3\n66. 6\n67. 5\n68. 2\n69. 4\n70. 5\n71. 2\n72. 5\n73. 5\n74. 1\n75. 3\n76. 4\n77. 2\n78. 3\n79. 3\n80. 3\n81. 1\n82. 3\n83. 5\n84. 1\n85. 3\n86. 1\n87. 3\n88. 2\n89. 1\n90. 2\n91. 5\n92. 3\n93. 5\n94. 4\n95. 5\n96. 5\n97. 6\n98. 6\n99. 1\n100. 6\n\n\n",
            "text/html": [
              "<style>\n",
              ".list-inline {list-style: none; margin:0; padding: 0}\n",
              ".list-inline>li {display: inline-block}\n",
              ".list-inline>li:not(:last-child)::after {content: \"\\00b7\"; padding: 0 .5ex}\n",
              "</style>\n",
              "<ol class=list-inline><li>5</li><li>1</li><li>5</li><li>5</li><li>1</li><li>3</li><li>1</li><li>5</li><li>6</li><li>4</li><li>2</li><li>2</li><li>3</li><li>3</li><li>4</li><li>6</li><li>3</li><li>4</li><li>5</li><li>1</li><li>2</li><li>3</li><li>6</li><li>2</li><li>3</li><li>6</li><li>5</li><li>5</li><li>2</li><li>3</li><li>5</li><li>4</li><li>5</li><li>6</li><li>6</li><li>2</li><li>2</li><li>1</li><li>1</li><li>1</li><li>3</li><li>1</li><li>5</li><li>6</li><li>4</li><li>3</li><li>2</li><li>6</li><li>5</li><li>5</li><li>5</li><li>4</li><li>2</li><li>4</li><li>5</li><li>4</li><li>6</li><li>1</li><li>5</li><li>1</li><li>4</li><li>2</li><li>4</li><li>5</li><li>3</li><li>6</li><li>5</li><li>2</li><li>4</li><li>5</li><li>2</li><li>5</li><li>5</li><li>1</li><li>3</li><li>4</li><li>2</li><li>3</li><li>3</li><li>3</li><li>1</li><li>3</li><li>5</li><li>1</li><li>3</li><li>1</li><li>3</li><li>2</li><li>1</li><li>2</li><li>5</li><li>3</li><li>5</li><li>4</li><li>5</li><li>5</li><li>6</li><li>6</li><li>1</li><li>6</li></ol>\n"
            ]
          },
          "metadata": {}
        },
        {
          "output_type": "display_data",
          "data": {
            "text/plain": [
              "[1] \"r\""
            ],
            "text/latex": "'r'",
            "text/markdown": "'r'",
            "text/html": [
              "'r'"
            ]
          },
          "metadata": {}
        },
        {
          "output_type": "display_data",
          "data": {
            "text/plain": [
              "[1] 1"
            ],
            "text/latex": "1",
            "text/markdown": "1",
            "text/html": [
              "1"
            ]
          },
          "metadata": {}
        },
        {
          "output_type": "display_data",
          "data": {
            "text/plain": [
              "   [1] 1 1 1 1 0 1 1 0 1 1 1 1 0 0 1 1 0 1 0 1 1 1 0 0 1 1 0 0 0 1 0 1 1 1 0 0 0\n",
              "  [38] 1 1 0 1 1 0 1 1 1 1 0 1 1 1 0 1 0 1 1 1 0 1 0 0 1 1 0 1 0 1 1 1 1 1 0 1 1\n",
              "  [75] 0 1 0 1 0 0 0 1 0 1 0 0 0 1 1 0 1 0 0 0 1 1 0 0 0 0 0 1 1 1 1 0 0 1 1 0 1\n",
              " [112] 1 1 1 1 1 1 1 1 1 1 0 0 1 1 1 1 1 0 0 0 0 1 0 1 1 0 1 1 1 0 1 1 1 1 0 1 1\n",
              " [149] 1 0 1 1 0 1 0 0 0 0 1 0 1 0 1 0 0 1 0 0 1 1 0 0 1 1 0 0 1 0 1 0 1 1 1 0 0\n",
              " [186] 1 0 0 1 1 0 1 1 0 0 0 1 0 1 1 0 0 1 1 1 0 1 1 0 0 1 1 0 1 1 0 0 1 0 1 1 1\n",
              " [223] 0 0 0 1 1 0 0 1 0 1 1 1 1 0 0 1 1 1 1 1 1 1 1 0 1 0 1 0 1 1 1 1 0 1 1 1 1\n",
              " [260] 1 1 1 0 0 0 1 1 0 1 0 0 1 1 1 0 1 0 1 1 0 0 0 1 1 1 0 1 1 0 0 1 0 1 1 1 1\n",
              " [297] 1 1 1 0 0 1 1 0 1 0 1 1 1 1 1 0 1 1 0 1 1 1 1 1 1 0 1 0 1 1 0 1 1 1 1 1 0\n",
              " [334] 1 0 0 1 0 0 1 0 0 1 1 0 1 1 1 1 1 0 1 0 1 0 1 1 0 0 1 0 1 0 1 1 1 0 1 1 1\n",
              " [371] 1 1 1 0 1 1 1 1 0 0 1 1 1 0 1 1 1 1 1 1 0 1 1 0 1 1 1 0 0 1 0 1 1 1 1 1 1\n",
              " [408] 0 1 0 1 1 1 1 0 0 0 1 0 1 1 0 0 1 1 1 0 1 0 1 1 0 0 0 0 1 1 1 1 0 0 1 1 1\n",
              " [445] 1 0 0 1 1 1 1 1 1 1 0 0 0 0 1 1 0 0 0 1 1 0 1 1 0 1 0 1 1 0 1 1 1 1 0 0 0\n",
              " [482] 0 0 1 1 0 1 1 1 1 0 0 1 1 1 1 0 1 1 0 0 1 1 1 1 1 0 1 0 0 0 0 1 0 1 0 0 0\n",
              " [519] 0 0 1 0 1 0 0 1 0 1 1 1 0 0 0 0 0 1 1 1 1 0 1 1 1 1 1 1 1 0 0 1 1 1 0 1 0\n",
              " [556] 0 1 0 1 1 0 0 0 0 1 0 1 1 0 1 0 1 0 1 1 1 0 0 1 1 1 0 0 1 1 0 0 0 1 0 0 0\n",
              " [593] 1 1 1 0 0 0 0 1 0 1 1 1 1 0 1 1 1 1 0 0 1 1 1 1 0 1 1 1 1 1 0 0 0 0 1 0 0\n",
              " [630] 0 0 1 1 0 1 1 1 1 0 0 1 1 1 1 0 1 1 1 1 1 0 1 1 1 0 0 1 1 1 1 1 0 1 1 0 0\n",
              " [667] 1 1 1 0 0 0 1 1 0 0 1 0 0 1 0 1 1 1 1 0 1 1 0 0 1 0 0 1 0 0 1 1 1 0 0 1 1\n",
              " [704] 1 1 0 1 1 1 1 1 0 0 0 1 0 1 1 1 0 1 0 1 1 0 1 0 0 0 0 1 0 0 0 1 1 1 1 1 1\n",
              " [741] 1 0 1 1 1 0 1 0 1 1 1 1 1 1 1 1 1 0 0 1 1 0 1 0 1 1 0 1 0 0 0 1 0 1 1 1 1\n",
              " [778] 1 1 0 1 1 1 0 1 1 0 0 0 0 1 1 0 1 1 1 0 0 1 0 1 1 1 1 1 0 0 1 1 1 0 1 0 1\n",
              " [815] 1 0 1 1 1 1 1 1 1 1 1 0 0 1 1 1 0 1 1 0 1 0 0 0 1 1 0 1 0 0 1 1 1 1 0 1 1\n",
              " [852] 1 1 0 0 0 0 1 1 0 0 1 1 1 0 0 1 0 1 0 0 1 1 0 0 1 1 1 1 0 0 1 0 1 1 0 1 1\n",
              " [889] 0 1 1 1 1 0 1 0 1 1 1 1 1 0 0 0 0 1 1 1 1 0 1 1 1 0 1 1 0 1 0 0 1 1 0 1 1\n",
              " [926] 1 0 1 1 1 1 1 1 1 1 1 1 0 1 1 1 1 0 1 0 1 1 0 0 0 0 0 1 1 1 1 0 0 1 0 0 1\n",
              " [963] 0 0 1 1 0 1 1 1 0 1 0 1 1 0 1 0 1 1 0 0 1 0 0 1 0 0 1 1 0 0 1 1 1 0 1 1 0\n",
              "[1000] 0"
            ],
            "text/latex": "\\begin{enumerate*}\n\\item 1\n\\item 1\n\\item 1\n\\item 1\n\\item 0\n\\item 1\n\\item 1\n\\item 0\n\\item 1\n\\item 1\n\\item 1\n\\item 1\n\\item 0\n\\item 0\n\\item 1\n\\item 1\n\\item 0\n\\item 1\n\\item 0\n\\item 1\n\\item 1\n\\item 1\n\\item 0\n\\item 0\n\\item 1\n\\item 1\n\\item 0\n\\item 0\n\\item 0\n\\item 1\n\\item 0\n\\item 1\n\\item 1\n\\item 1\n\\item 0\n\\item 0\n\\item 0\n\\item 1\n\\item 1\n\\item 0\n\\item 1\n\\item 1\n\\item 0\n\\item 1\n\\item 1\n\\item 1\n\\item 1\n\\item 0\n\\item 1\n\\item 1\n\\item 1\n\\item 0\n\\item 1\n\\item 0\n\\item 1\n\\item 1\n\\item 1\n\\item 0\n\\item 1\n\\item 0\n\\item 0\n\\item 1\n\\item 1\n\\item 0\n\\item 1\n\\item 0\n\\item 1\n\\item 1\n\\item 1\n\\item 1\n\\item 1\n\\item 0\n\\item 1\n\\item 1\n\\item 0\n\\item 1\n\\item 0\n\\item 1\n\\item 0\n\\item 0\n\\item 0\n\\item 1\n\\item 0\n\\item 1\n\\item 0\n\\item 0\n\\item 0\n\\item 1\n\\item 1\n\\item 0\n\\item 1\n\\item 0\n\\item 0\n\\item 0\n\\item 1\n\\item 1\n\\item 0\n\\item 0\n\\item 0\n\\item 0\n\\item 0\n\\item 1\n\\item 1\n\\item 1\n\\item 1\n\\item 0\n\\item 0\n\\item 1\n\\item 1\n\\item 0\n\\item 1\n\\item 1\n\\item 1\n\\item 1\n\\item 1\n\\item 1\n\\item 1\n\\item 1\n\\item 1\n\\item 1\n\\item 1\n\\item 0\n\\item 0\n\\item 1\n\\item 1\n\\item 1\n\\item 1\n\\item 1\n\\item 0\n\\item 0\n\\item 0\n\\item 0\n\\item 1\n\\item 0\n\\item 1\n\\item 1\n\\item 0\n\\item 1\n\\item 1\n\\item 1\n\\item 0\n\\item 1\n\\item 1\n\\item 1\n\\item 1\n\\item 0\n\\item 1\n\\item 1\n\\item 1\n\\item 0\n\\item 1\n\\item 1\n\\item 0\n\\item 1\n\\item 0\n\\item 0\n\\item 0\n\\item 0\n\\item 1\n\\item 0\n\\item 1\n\\item 0\n\\item 1\n\\item 0\n\\item 0\n\\item 1\n\\item 0\n\\item 0\n\\item 1\n\\item 1\n\\item 0\n\\item 0\n\\item 1\n\\item 1\n\\item 0\n\\item 0\n\\item 1\n\\item 0\n\\item 1\n\\item 0\n\\item 1\n\\item 1\n\\item 1\n\\item 0\n\\item 0\n\\item 1\n\\item 0\n\\item 0\n\\item 1\n\\item 1\n\\item 0\n\\item 1\n\\item 1\n\\item 0\n\\item 0\n\\item 0\n\\item 1\n\\item 0\n\\item 1\n\\item 1\n\\item ⋯\n\\item 1\n\\item 1\n\\item 1\n\\item 1\n\\item 1\n\\item 0\n\\item 0\n\\item 1\n\\item 1\n\\item 1\n\\item 0\n\\item 1\n\\item 0\n\\item 1\n\\item 1\n\\item 0\n\\item 1\n\\item 1\n\\item 1\n\\item 1\n\\item 1\n\\item 1\n\\item 1\n\\item 1\n\\item 1\n\\item 0\n\\item 0\n\\item 1\n\\item 1\n\\item 1\n\\item 0\n\\item 1\n\\item 1\n\\item 0\n\\item 1\n\\item 0\n\\item 0\n\\item 0\n\\item 1\n\\item 1\n\\item 0\n\\item 1\n\\item 0\n\\item 0\n\\item 1\n\\item 1\n\\item 1\n\\item 1\n\\item 0\n\\item 1\n\\item 1\n\\item 1\n\\item 1\n\\item 0\n\\item 0\n\\item 0\n\\item 0\n\\item 1\n\\item 1\n\\item 0\n\\item 0\n\\item 1\n\\item 1\n\\item 1\n\\item 0\n\\item 0\n\\item 1\n\\item 0\n\\item 1\n\\item 0\n\\item 0\n\\item 1\n\\item 1\n\\item 0\n\\item 0\n\\item 1\n\\item 1\n\\item 1\n\\item 1\n\\item 0\n\\item 0\n\\item 1\n\\item 0\n\\item 1\n\\item 1\n\\item 0\n\\item 1\n\\item 1\n\\item 0\n\\item 1\n\\item 1\n\\item 1\n\\item 1\n\\item 0\n\\item 1\n\\item 0\n\\item 1\n\\item 1\n\\item 1\n\\item 1\n\\item 1\n\\item 0\n\\item 0\n\\item 0\n\\item 0\n\\item 1\n\\item 1\n\\item 1\n\\item 1\n\\item 0\n\\item 1\n\\item 1\n\\item 1\n\\item 0\n\\item 1\n\\item 1\n\\item 0\n\\item 1\n\\item 0\n\\item 0\n\\item 1\n\\item 1\n\\item 0\n\\item 1\n\\item 1\n\\item 1\n\\item 0\n\\item 1\n\\item 1\n\\item 1\n\\item 1\n\\item 1\n\\item 1\n\\item 1\n\\item 1\n\\item 1\n\\item 1\n\\item 0\n\\item 1\n\\item 1\n\\item 1\n\\item 1\n\\item 0\n\\item 1\n\\item 0\n\\item 1\n\\item 1\n\\item 0\n\\item 0\n\\item 0\n\\item 0\n\\item 0\n\\item 1\n\\item 1\n\\item 1\n\\item 1\n\\item 0\n\\item 0\n\\item 1\n\\item 0\n\\item 0\n\\item 1\n\\item 0\n\\item 0\n\\item 1\n\\item 1\n\\item 0\n\\item 1\n\\item 1\n\\item 1\n\\item 0\n\\item 1\n\\item 0\n\\item 1\n\\item 1\n\\item 0\n\\item 1\n\\item 0\n\\item 1\n\\item 1\n\\item 0\n\\item 0\n\\item 1\n\\item 0\n\\item 0\n\\item 1\n\\item 0\n\\item 0\n\\item 1\n\\item 1\n\\item 0\n\\item 0\n\\item 1\n\\item 1\n\\item 1\n\\item 0\n\\item 1\n\\item 1\n\\item 0\n\\item 0\n\\end{enumerate*}\n",
            "text/markdown": "1. 1\n2. 1\n3. 1\n4. 1\n5. 0\n6. 1\n7. 1\n8. 0\n9. 1\n10. 1\n11. 1\n12. 1\n13. 0\n14. 0\n15. 1\n16. 1\n17. 0\n18. 1\n19. 0\n20. 1\n21. 1\n22. 1\n23. 0\n24. 0\n25. 1\n26. 1\n27. 0\n28. 0\n29. 0\n30. 1\n31. 0\n32. 1\n33. 1\n34. 1\n35. 0\n36. 0\n37. 0\n38. 1\n39. 1\n40. 0\n41. 1\n42. 1\n43. 0\n44. 1\n45. 1\n46. 1\n47. 1\n48. 0\n49. 1\n50. 1\n51. 1\n52. 0\n53. 1\n54. 0\n55. 1\n56. 1\n57. 1\n58. 0\n59. 1\n60. 0\n61. 0\n62. 1\n63. 1\n64. 0\n65. 1\n66. 0\n67. 1\n68. 1\n69. 1\n70. 1\n71. 1\n72. 0\n73. 1\n74. 1\n75. 0\n76. 1\n77. 0\n78. 1\n79. 0\n80. 0\n81. 0\n82. 1\n83. 0\n84. 1\n85. 0\n86. 0\n87. 0\n88. 1\n89. 1\n90. 0\n91. 1\n92. 0\n93. 0\n94. 0\n95. 1\n96. 1\n97. 0\n98. 0\n99. 0\n100. 0\n101. 0\n102. 1\n103. 1\n104. 1\n105. 1\n106. 0\n107. 0\n108. 1\n109. 1\n110. 0\n111. 1\n112. 1\n113. 1\n114. 1\n115. 1\n116. 1\n117. 1\n118. 1\n119. 1\n120. 1\n121. 1\n122. 0\n123. 0\n124. 1\n125. 1\n126. 1\n127. 1\n128. 1\n129. 0\n130. 0\n131. 0\n132. 0\n133. 1\n134. 0\n135. 1\n136. 1\n137. 0\n138. 1\n139. 1\n140. 1\n141. 0\n142. 1\n143. 1\n144. 1\n145. 1\n146. 0\n147. 1\n148. 1\n149. 1\n150. 0\n151. 1\n152. 1\n153. 0\n154. 1\n155. 0\n156. 0\n157. 0\n158. 0\n159. 1\n160. 0\n161. 1\n162. 0\n163. 1\n164. 0\n165. 0\n166. 1\n167. 0\n168. 0\n169. 1\n170. 1\n171. 0\n172. 0\n173. 1\n174. 1\n175. 0\n176. 0\n177. 1\n178. 0\n179. 1\n180. 0\n181. 1\n182. 1\n183. 1\n184. 0\n185. 0\n186. 1\n187. 0\n188. 0\n189. 1\n190. 1\n191. 0\n192. 1\n193. 1\n194. 0\n195. 0\n196. 0\n197. 1\n198. 0\n199. 1\n200. 1\n201. ⋯\n202. 1\n203. 1\n204. 1\n205. 1\n206. 1\n207. 0\n208. 0\n209. 1\n210. 1\n211. 1\n212. 0\n213. 1\n214. 0\n215. 1\n216. 1\n217. 0\n218. 1\n219. 1\n220. 1\n221. 1\n222. 1\n223. 1\n224. 1\n225. 1\n226. 1\n227. 0\n228. 0\n229. 1\n230. 1\n231. 1\n232. 0\n233. 1\n234. 1\n235. 0\n236. 1\n237. 0\n238. 0\n239. 0\n240. 1\n241. 1\n242. 0\n243. 1\n244. 0\n245. 0\n246. 1\n247. 1\n248. 1\n249. 1\n250. 0\n251. 1\n252. 1\n253. 1\n254. 1\n255. 0\n256. 0\n257. 0\n258. 0\n259. 1\n260. 1\n261. 0\n262. 0\n263. 1\n264. 1\n265. 1\n266. 0\n267. 0\n268. 1\n269. 0\n270. 1\n271. 0\n272. 0\n273. 1\n274. 1\n275. 0\n276. 0\n277. 1\n278. 1\n279. 1\n280. 1\n281. 0\n282. 0\n283. 1\n284. 0\n285. 1\n286. 1\n287. 0\n288. 1\n289. 1\n290. 0\n291. 1\n292. 1\n293. 1\n294. 1\n295. 0\n296. 1\n297. 0\n298. 1\n299. 1\n300. 1\n301. 1\n302. 1\n303. 0\n304. 0\n305. 0\n306. 0\n307. 1\n308. 1\n309. 1\n310. 1\n311. 0\n312. 1\n313. 1\n314. 1\n315. 0\n316. 1\n317. 1\n318. 0\n319. 1\n320. 0\n321. 0\n322. 1\n323. 1\n324. 0\n325. 1\n326. 1\n327. 1\n328. 0\n329. 1\n330. 1\n331. 1\n332. 1\n333. 1\n334. 1\n335. 1\n336. 1\n337. 1\n338. 1\n339. 0\n340. 1\n341. 1\n342. 1\n343. 1\n344. 0\n345. 1\n346. 0\n347. 1\n348. 1\n349. 0\n350. 0\n351. 0\n352. 0\n353. 0\n354. 1\n355. 1\n356. 1\n357. 1\n358. 0\n359. 0\n360. 1\n361. 0\n362. 0\n363. 1\n364. 0\n365. 0\n366. 1\n367. 1\n368. 0\n369. 1\n370. 1\n371. 1\n372. 0\n373. 1\n374. 0\n375. 1\n376. 1\n377. 0\n378. 1\n379. 0\n380. 1\n381. 1\n382. 0\n383. 0\n384. 1\n385. 0\n386. 0\n387. 1\n388. 0\n389. 0\n390. 1\n391. 1\n392. 0\n393. 0\n394. 1\n395. 1\n396. 1\n397. 0\n398. 1\n399. 1\n400. 0\n401. 0\n\n\n",
            "text/html": [
              "<style>\n",
              ".list-inline {list-style: none; margin:0; padding: 0}\n",
              ".list-inline>li {display: inline-block}\n",
              ".list-inline>li:not(:last-child)::after {content: \"\\00b7\"; padding: 0 .5ex}\n",
              "</style>\n",
              "<ol class=list-inline><li>1</li><li>1</li><li>1</li><li>1</li><li>0</li><li>1</li><li>1</li><li>0</li><li>1</li><li>1</li><li>1</li><li>1</li><li>0</li><li>0</li><li>1</li><li>1</li><li>0</li><li>1</li><li>0</li><li>1</li><li>1</li><li>1</li><li>0</li><li>0</li><li>1</li><li>1</li><li>0</li><li>0</li><li>0</li><li>1</li><li>0</li><li>1</li><li>1</li><li>1</li><li>0</li><li>0</li><li>0</li><li>1</li><li>1</li><li>0</li><li>1</li><li>1</li><li>0</li><li>1</li><li>1</li><li>1</li><li>1</li><li>0</li><li>1</li><li>1</li><li>1</li><li>0</li><li>1</li><li>0</li><li>1</li><li>1</li><li>1</li><li>0</li><li>1</li><li>0</li><li>0</li><li>1</li><li>1</li><li>0</li><li>1</li><li>0</li><li>1</li><li>1</li><li>1</li><li>1</li><li>1</li><li>0</li><li>1</li><li>1</li><li>0</li><li>1</li><li>0</li><li>1</li><li>0</li><li>0</li><li>0</li><li>1</li><li>0</li><li>1</li><li>0</li><li>0</li><li>0</li><li>1</li><li>1</li><li>0</li><li>1</li><li>0</li><li>0</li><li>0</li><li>1</li><li>1</li><li>0</li><li>0</li><li>0</li><li>0</li><li>0</li><li>1</li><li>1</li><li>1</li><li>1</li><li>0</li><li>0</li><li>1</li><li>1</li><li>0</li><li>1</li><li>1</li><li>1</li><li>1</li><li>1</li><li>1</li><li>1</li><li>1</li><li>1</li><li>1</li><li>1</li><li>0</li><li>0</li><li>1</li><li>1</li><li>1</li><li>1</li><li>1</li><li>0</li><li>0</li><li>0</li><li>0</li><li>1</li><li>0</li><li>1</li><li>1</li><li>0</li><li>1</li><li>1</li><li>1</li><li>0</li><li>1</li><li>1</li><li>1</li><li>1</li><li>0</li><li>1</li><li>1</li><li>1</li><li>0</li><li>1</li><li>1</li><li>0</li><li>1</li><li>0</li><li>0</li><li>0</li><li>0</li><li>1</li><li>0</li><li>1</li><li>0</li><li>1</li><li>0</li><li>0</li><li>1</li><li>0</li><li>0</li><li>1</li><li>1</li><li>0</li><li>0</li><li>1</li><li>1</li><li>0</li><li>0</li><li>1</li><li>0</li><li>1</li><li>0</li><li>1</li><li>1</li><li>1</li><li>0</li><li>0</li><li>1</li><li>0</li><li>0</li><li>1</li><li>1</li><li>0</li><li>1</li><li>1</li><li>0</li><li>0</li><li>0</li><li>1</li><li>0</li><li>1</li><li>1</li><li>⋯</li><li>1</li><li>1</li><li>1</li><li>1</li><li>1</li><li>0</li><li>0</li><li>1</li><li>1</li><li>1</li><li>0</li><li>1</li><li>0</li><li>1</li><li>1</li><li>0</li><li>1</li><li>1</li><li>1</li><li>1</li><li>1</li><li>1</li><li>1</li><li>1</li><li>1</li><li>0</li><li>0</li><li>1</li><li>1</li><li>1</li><li>0</li><li>1</li><li>1</li><li>0</li><li>1</li><li>0</li><li>0</li><li>0</li><li>1</li><li>1</li><li>0</li><li>1</li><li>0</li><li>0</li><li>1</li><li>1</li><li>1</li><li>1</li><li>0</li><li>1</li><li>1</li><li>1</li><li>1</li><li>0</li><li>0</li><li>0</li><li>0</li><li>1</li><li>1</li><li>0</li><li>0</li><li>1</li><li>1</li><li>1</li><li>0</li><li>0</li><li>1</li><li>0</li><li>1</li><li>0</li><li>0</li><li>1</li><li>1</li><li>0</li><li>0</li><li>1</li><li>1</li><li>1</li><li>1</li><li>0</li><li>0</li><li>1</li><li>0</li><li>1</li><li>1</li><li>0</li><li>1</li><li>1</li><li>0</li><li>1</li><li>1</li><li>1</li><li>1</li><li>0</li><li>1</li><li>0</li><li>1</li><li>1</li><li>1</li><li>1</li><li>1</li><li>0</li><li>0</li><li>0</li><li>0</li><li>1</li><li>1</li><li>1</li><li>1</li><li>0</li><li>1</li><li>1</li><li>1</li><li>0</li><li>1</li><li>1</li><li>0</li><li>1</li><li>0</li><li>0</li><li>1</li><li>1</li><li>0</li><li>1</li><li>1</li><li>1</li><li>0</li><li>1</li><li>1</li><li>1</li><li>1</li><li>1</li><li>1</li><li>1</li><li>1</li><li>1</li><li>1</li><li>0</li><li>1</li><li>1</li><li>1</li><li>1</li><li>0</li><li>1</li><li>0</li><li>1</li><li>1</li><li>0</li><li>0</li><li>0</li><li>0</li><li>0</li><li>1</li><li>1</li><li>1</li><li>1</li><li>0</li><li>0</li><li>1</li><li>0</li><li>0</li><li>1</li><li>0</li><li>0</li><li>1</li><li>1</li><li>0</li><li>1</li><li>1</li><li>1</li><li>0</li><li>1</li><li>0</li><li>1</li><li>1</li><li>0</li><li>1</li><li>0</li><li>1</li><li>1</li><li>0</li><li>0</li><li>1</li><li>0</li><li>0</li><li>1</li><li>0</li><li>0</li><li>1</li><li>1</li><li>0</li><li>0</li><li>1</li><li>1</li><li>1</li><li>0</li><li>1</li><li>1</li><li>0</li><li>0</li></ol>\n"
            ]
          },
          "metadata": {}
        },
        {
          "output_type": "display_data",
          "data": {
            "text/plain": [
              "[1] 1 0"
            ],
            "text/latex": "\\begin{enumerate*}\n\\item 1\n\\item 0\n\\end{enumerate*}\n",
            "text/markdown": "1. 1\n2. 0\n\n\n",
            "text/html": [
              "<style>\n",
              ".list-inline {list-style: none; margin:0; padding: 0}\n",
              ".list-inline>li {display: inline-block}\n",
              ".list-inline>li:not(:last-child)::after {content: \"\\00b7\"; padding: 0 .5ex}\n",
              "</style>\n",
              "<ol class=list-inline><li>1</li><li>0</li></ol>\n"
            ]
          },
          "metadata": {}
        },
        {
          "output_type": "display_data",
          "data": {
            "text/plain": [
              "[1] \"matrix\" \"array\" "
            ],
            "text/latex": "\\begin{enumerate*}\n\\item 'matrix'\n\\item 'array'\n\\end{enumerate*}\n",
            "text/markdown": "1. 'matrix'\n2. 'array'\n\n\n",
            "text/html": [
              "<style>\n",
              ".list-inline {list-style: none; margin:0; padding: 0}\n",
              ".list-inline>li {display: inline-block}\n",
              ".list-inline>li:not(:last-child)::after {content: \"\\00b7\"; padding: 0 .5ex}\n",
              "</style>\n",
              "<ol class=list-inline><li>'matrix'</li><li>'array'</li></ol>\n"
            ]
          },
          "metadata": {}
        },
        {
          "output_type": "display_data",
          "data": {
            "text/plain": [
              "[1]  2 10"
            ],
            "text/latex": "\\begin{enumerate*}\n\\item 2\n\\item 10\n\\end{enumerate*}\n",
            "text/markdown": "1. 2\n2. 10\n\n\n",
            "text/html": [
              "<style>\n",
              ".list-inline {list-style: none; margin:0; padding: 0}\n",
              ".list-inline>li {display: inline-block}\n",
              ".list-inline>li:not(:last-child)::after {content: \"\\00b7\"; padding: 0 .5ex}\n",
              "</style>\n",
              "<ol class=list-inline><li>2</li><li>10</li></ol>\n"
            ]
          },
          "metadata": {}
        },
        {
          "output_type": "display_data",
          "data": {
            "text/plain": [
              "      [,1]  [,2] \n",
              " [1,]  TRUE  TRUE\n",
              " [2,]  TRUE  TRUE\n",
              " [3,]  TRUE FALSE\n",
              " [4,]  TRUE  TRUE\n",
              " [5,]  TRUE FALSE\n",
              " [6,] FALSE FALSE\n",
              " [7,]  TRUE FALSE\n",
              " [8,] FALSE FALSE\n",
              " [9,] FALSE FALSE\n",
              "[10,] FALSE FALSE"
            ],
            "text/latex": "A matrix: 10 × 2 of type lgl\n\\begin{tabular}{ll}\n\t  TRUE &  TRUE\\\\\n\t  TRUE &  TRUE\\\\\n\t  TRUE & FALSE\\\\\n\t  TRUE &  TRUE\\\\\n\t  TRUE & FALSE\\\\\n\t FALSE & FALSE\\\\\n\t  TRUE & FALSE\\\\\n\t FALSE & FALSE\\\\\n\t FALSE & FALSE\\\\\n\t FALSE & FALSE\\\\\n\\end{tabular}\n",
            "text/markdown": "\nA matrix: 10 × 2 of type lgl\n\n|  TRUE |  TRUE |\n|  TRUE |  TRUE |\n|  TRUE | FALSE |\n|  TRUE |  TRUE |\n|  TRUE | FALSE |\n| FALSE | FALSE |\n|  TRUE | FALSE |\n| FALSE | FALSE |\n| FALSE | FALSE |\n| FALSE | FALSE |\n\n",
            "text/html": [
              "<table class=\"dataframe\">\n",
              "<caption>A matrix: 10 × 2 of type lgl</caption>\n",
              "<tbody>\n",
              "\t<tr><td> TRUE</td><td> TRUE</td></tr>\n",
              "\t<tr><td> TRUE</td><td> TRUE</td></tr>\n",
              "\t<tr><td> TRUE</td><td>FALSE</td></tr>\n",
              "\t<tr><td> TRUE</td><td> TRUE</td></tr>\n",
              "\t<tr><td> TRUE</td><td>FALSE</td></tr>\n",
              "\t<tr><td>FALSE</td><td>FALSE</td></tr>\n",
              "\t<tr><td> TRUE</td><td>FALSE</td></tr>\n",
              "\t<tr><td>FALSE</td><td>FALSE</td></tr>\n",
              "\t<tr><td>FALSE</td><td>FALSE</td></tr>\n",
              "\t<tr><td>FALSE</td><td>FALSE</td></tr>\n",
              "</tbody>\n",
              "</table>\n"
            ]
          },
          "metadata": {}
        },
        {
          "output_type": "display_data",
          "data": {
            "text/plain": [
              " [1]  TRUE  TRUE  TRUE  TRUE  TRUE FALSE  TRUE FALSE FALSE FALSE"
            ],
            "text/latex": "\\begin{enumerate*}\n\\item TRUE\n\\item TRUE\n\\item TRUE\n\\item TRUE\n\\item TRUE\n\\item FALSE\n\\item TRUE\n\\item FALSE\n\\item FALSE\n\\item FALSE\n\\end{enumerate*}\n",
            "text/markdown": "1. TRUE\n2. TRUE\n3. TRUE\n4. TRUE\n5. TRUE\n6. FALSE\n7. TRUE\n8. FALSE\n9. FALSE\n10. FALSE\n\n\n",
            "text/html": [
              "<style>\n",
              ".list-inline {list-style: none; margin:0; padding: 0}\n",
              ".list-inline>li {display: inline-block}\n",
              ".list-inline>li:not(:last-child)::after {content: \"\\00b7\"; padding: 0 .5ex}\n",
              "</style>\n",
              "<ol class=list-inline><li>TRUE</li><li>TRUE</li><li>TRUE</li><li>TRUE</li><li>TRUE</li><li>FALSE</li><li>TRUE</li><li>FALSE</li><li>FALSE</li><li>FALSE</li></ol>\n"
            ]
          },
          "metadata": {}
        },
        {
          "output_type": "display_data",
          "data": {
            "text/plain": [
              "[1] 0.6"
            ],
            "text/latex": "0.6",
            "text/markdown": "0.6",
            "text/html": [
              "0.6"
            ]
          },
          "metadata": {}
        },
        {
          "output_type": "display_data",
          "data": {
            "image/png": "[encoded data removed]",
            "text/plain": [
              "plot without title"
            ]
          },
          "metadata": {
            "image/png": {
              "width": 420,
              "height": 420
            }
          }
        }
      ]
    }
  ]
}