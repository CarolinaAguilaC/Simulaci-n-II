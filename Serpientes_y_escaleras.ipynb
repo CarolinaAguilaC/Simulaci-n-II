{
  "nbformat": 4,
  "nbformat_minor": 0,
  "metadata": {
    "colab": {
      "provenance": [],
      "authorship_tag": "ABX9TyPuCmE8SU4HkjVRPFd98Cyx",
      "include_colab_link": true
    },
    "kernelspec": {
      "name": "python3",
      "display_name": "Python 3"
    },
    "language_info": {
      "name": "python"
    }
  },
  "cells": [
    {
      "cell_type": "markdown",
      "metadata": {
        "id": "view-in-github",
        "colab_type": "text"
      },
      "source": [
        "<a href=\"https://colab.research.google.com/github/CarolinaAguilaC/Simulaci-n-II/blob/main/Serpientes_y_escaleras.ipynb\" target=\"_parent\"><img src=\"https://colab.research.google.com/assets/colab-badge.svg\" alt=\"Open In Colab\"/></a>"
      ]
    },
    {
      "cell_type": "markdown",
      "source": [
        "# Juego de serpientes y escaleras"
      ],
      "metadata": {
        "id": "GUPAwz779JsT"
      }
    },
    {
      "cell_type": "markdown",
      "source": [
        "Del tablero visto en clase, ¿Cuántas tiradas se necesitan para ganar?"
      ],
      "metadata": {
        "id": "TXnHXnpC9TkQ"
      }
    },
    {
      "cell_type": "code",
      "source": [
        "import numpy as np\n",
        "import random\n",
        "import matplotlib.pyplot as plt\n",
        "dado=0\n",
        "p=0\n",
        "moves=0\n",
        "tirada=0\n",
        "Lista=[]"
      ],
      "metadata": {
        "id": "itT_K1lO9fEL"
      },
      "execution_count": 1,
      "outputs": []
    },
    {
      "cell_type": "code",
      "source": [
        "def juego():\n",
        "  p=0\n",
        "  moves=0\n",
        "  while p<=20:\n",
        "    dado=random.randint(1,6)\n",
        "    p=p+dado\n",
        "    if p==3:\n",
        "      p=11\n",
        "    elif p==13:\n",
        "      p=4\n",
        "    elif p==15:\n",
        "      p=19\n",
        "    elif p==17:\n",
        "      p=10\n",
        "    moves=moves+1\n",
        "\n",
        "  return(moves)"
      ],
      "metadata": {
        "id": "i-0kcSJy9jMe"
      },
      "execution_count": 2,
      "outputs": []
    },
    {
      "cell_type": "code",
      "source": [
        "n=500\n",
        "for i in range (n):\n",
        "  Lista.append(juego())\n",
        "  tirada=tirada+juego()\n",
        "\n",
        "print(\"El número de tiradas promedio para completar el juego son de: \", tirada/n)\n",
        "print(\"El promedio es: \", np.mean(Lista))\n",
        "print(\"La varianza es: \", np.var(Lista))\n",
        "print(\"La desviación estandar es: \", np.mean(Lista))\n",
        "print(\"El intervalo de confianza es: \",\n",
        "np.mean(Lista)-(1.96)*((np.var(Lista))/np.sqrt(n)), \"≤ m ≤\",\n",
        "np.mean(Lista)+(1.96)*((np.var(Lista))/np.sqrt(n)))"
      ],
      "metadata": {
        "colab": {
          "base_uri": "https://localhost:8080/"
        },
        "id": "RSG0Nobj9l6e",
        "outputId": "d5c7c659-e88f-47c0-d35d-37540451611d"
      },
      "execution_count": 3,
      "outputs": [
        {
          "output_type": "stream",
          "name": "stdout",
          "text": [
            "El número de tiradas promedio para completar el juego son de:  7.35\n",
            "El promedio es:  7.482\n",
            "La varianza es:  10.721676\n",
            "La desviación estandar es:  7.482\n",
            "El intervalo de confianza es:  6.5422036623458615 ≤ m ≤ 8.42179633765414\n"
          ]
        }
      ]
    }
  ]
}