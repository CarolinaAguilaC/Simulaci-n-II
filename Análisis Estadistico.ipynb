{
  "cells": [
    {
      "cell_type": "markdown",
      "metadata": {
        "id": "U6JQt0rvjL39"
      },
      "source": [
        "# <font color='blue'> Análisis Estadístico de Parámetros de Estado Estable"
      ]
    },
    {
      "cell_type": "markdown",
      "metadata": {
        "id": "syZria5jjL3_"
      },
      "source": [
        "Por lo general, los estudios de simulación se realizan para determinar el valor de cierta cantidad $\\theta$ relacionada con el modelo estocástico particular. Una simulación del sistema en cuestión produce los datos de salida $X$, una variable aleatoria cuyo valor esperado es la cantidad de interés $\\theta$, y se realiza durante $n$ ejecuciones."
      ]
    },
    {
      "cell_type": "markdown",
      "metadata": {
        "id": "JmkxtVYUjL4A"
      },
      "source": [
        "El promedio de estos $n$ valores,"
      ]
    },
    {
      "cell_type": "markdown",
      "metadata": {
        "id": "ewQCd_HOjL4B"
      },
      "source": [
        "<font color='red'>$$\\bar{X} = \\sum_{i=1}^n \\frac{X_i}{n}$$"
      ]
    },
    {
      "cell_type": "markdown",
      "metadata": {
        "id": "zTMZF9cgjL4B"
      },
      "source": [
        "sirve como estimador, o aproximador de $\\theta$. Este promedio aritmético es la **media muestral**."
      ]
    },
    {
      "cell_type": "markdown",
      "metadata": {
        "id": "C73d-RrnjL4B"
      },
      "source": [
        "Para determinar la \"bondad\" de $\\bar{X}$ como estimador de la media poblacional $\\theta$, consideramos el error cuadrático medio:"
      ]
    },
    {
      "cell_type": "markdown",
      "metadata": {
        "id": "g6xEPqKbjL4C"
      },
      "source": [
        "$$\\mathbb{E}[(\\bar{X}-\\theta)^2]=\\mathbb{Var}(\\bar{X})=\\frac{\\sigma^2}{n}$$"
      ]
    },
    {
      "cell_type": "markdown",
      "metadata": {
        "id": "q8Jvkxt3jL4C"
      },
      "source": [
        "donde $\\mathbb{E}[\\bar{X}]=\\theta$ y $\\mathbb{Var}(X_i)=\\sigma^2$"
      ]
    },
    {
      "cell_type": "markdown",
      "metadata": {
        "id": "zrvp1FzdjL4D"
      },
      "source": [
        "Entonces, $\\bar{X}$ es un buen estimador de $\\theta$ cuando $\\frac{\\sigma}{\\sqrt{n}}$ es pequeño."
      ]
    },
    {
      "cell_type": "markdown",
      "metadata": {
        "id": "LnOq5ijZjL4D"
      },
      "source": [
        "La dificultad de este indicador de bondad es que por lo general no se conoce la varianza poblacional $\\sigma^2$, así que también debe estimarse."
      ]
    },
    {
      "cell_type": "markdown",
      "metadata": {
        "id": "ZioxLRGZjL4E"
      },
      "source": [
        "Para ello se usa la varianza muestral, $S^2$:"
      ]
    },
    {
      "cell_type": "markdown",
      "metadata": {
        "id": "FJRpmiocjL4E"
      },
      "source": [
        "<font color='red'>$$S^2=\\frac{\\sum_{i=1}^n (X_i-\\bar{X})^2}{n-1}$$"
      ]
    },
    {
      "cell_type": "markdown",
      "metadata": {
        "id": "BPxP9_9MjL4E"
      },
      "source": [
        "$S^2$ es la **varianza poblacional** y $s=\\sqrt{S^2}$ es la **desviación estándar muestral**."
      ]
    },
    {
      "cell_type": "markdown",
      "metadata": {
        "id": "vGATaFj7jL4F"
      },
      "source": [
        "De modo que la estimación del error cuadrático medio es:\n",
        "\n",
        "$$ECM = \\frac{S^2}{n}$$"
      ]
    },
    {
      "cell_type": "markdown",
      "metadata": {
        "id": "uVmifhs4jL4F"
      },
      "source": [
        "De modo que la estimación del error estándar es:\n",
        "\n",
        "<font color='red'>$$e=\\frac{S}{\\sqrt{n}}$$"
      ]
    },
    {
      "cell_type": "markdown",
      "metadata": {
        "id": "LXF8OoA7jL4F"
      },
      "source": [
        "### <font color='blue'> Ejercicio"
      ]
    },
    {
      "cell_type": "markdown",
      "metadata": {
        "id": "Q6xaNMSBjL4G"
      },
      "source": [
        "Estimemos el valor de la integral $\\int_0^1 \\sqrt( \\arctan x ) dx$."
      ]
    },
    {
      "cell_type": "markdown",
      "metadata": {
        "id": "LFuyJl2qjL4G"
      },
      "source": [
        "Modificar el ejercicio ya realizado para obtener una estimación de la integral y una medida de su bondad."
      ]
    },
    {
      "cell_type": "code",
      "execution_count": 1,
      "metadata": {
        "id": "Uiuq9RXnjL4H"
      },
      "outputs": [],
      "source": [
        "import numpy as np\n",
        "import matplotlib.pyplot as plt"
      ]
    },
    {
      "cell_type": "code",
      "execution_count": 2,
      "metadata": {
        "id": "DozCoKp4jL4I"
      },
      "outputs": [],
      "source": [
        "#Definimos la función de prueba.\n",
        "def funcion(x):\n",
        "    return np.sqrt(np.arctan(x))"
      ]
    },
    {
      "cell_type": "code",
      "execution_count": 3,
      "metadata": {
        "id": "JEc_gNewjL4J",
        "outputId": "bea61ddf-5161-493b-caf0-7a7f4a39a52b",
        "colab": {
          "base_uri": "https://localhost:8080/",
          "height": 472
        }
      },
      "outputs": [
        {
          "output_type": "display_data",
          "data": {
            "text/plain": [
              "<Figure size 640x480 with 1 Axes>"
            ],
            "image/png": "[encoded data removed]"
          },
          "metadata": {}
        }
      ],
      "source": [
        "#Graficamos la función de prueba.\n",
        "X=np.linspace(0,1,1000)\n",
        "plt.plot(X,funcion(X), color='red', label=\"$y=1/(1+x)$\")\n",
        "#plt.fill_between(X,funcion(X))\n",
        "plt.legend()\n",
        "plt.xlim(0.0, 1.2)\n",
        "plt.ylim(0.0, 1.2)\n",
        "plt.grid(True)\n",
        "plt.title('Función de prueba', color='b')\n",
        "plt.xlabel('X')\n",
        "plt.ylabel('Y')\n",
        "plt.show()"
      ]
    },
    {
      "cell_type": "code",
      "execution_count": 4,
      "metadata": {
        "id": "J_njkMu4jL4J",
        "outputId": "0106403e-540d-41fc-b830-54f1ab631023",
        "colab": {
          "base_uri": "https://localhost:8080/"
        }
      },
      "outputs": [
        {
          "output_type": "stream",
          "name": "stdout",
          "text": [
            "El valor de la integral es: 0.62805\n",
            "El error estándar es: 0.00205\n"
          ]
        }
      ],
      "source": [
        "def integ(func=funcion, n=10000):\n",
        "    muestreo=[]\n",
        "    suma=[]\n",
        "    for i in range(n):\n",
        "        u= np.random.random_sample()\n",
        "        muestreo.append(u)\n",
        "        y=funcion(u)\n",
        "        suma.append(y)\n",
        "\n",
        "    return np.mean(suma), np.std(suma)/np.sqrt(n)\n",
        "\n",
        "print(\"El valor de la integral es:\", round(integ()[0],5))\n",
        "print(\"El error estándar es:\", round(integ()[1],5))"
      ]
    },
    {
      "cell_type": "code",
      "execution_count": 5,
      "metadata": {
        "id": "Um5UAGXCjL4K",
        "outputId": "d25eea04-6843-4837-84ae-231bdd559011",
        "colab": {
          "base_uri": "https://localhost:8080/"
        }
      },
      "outputs": [
        {
          "output_type": "execute_result",
          "data": {
            "text/plain": [
              "(0.6398732758701364, 0.019603546508794804)"
            ]
          },
          "metadata": {},
          "execution_count": 5
        }
      ],
      "source": [
        "integ(n=100)"
      ]
    },
    {
      "cell_type": "markdown",
      "metadata": {
        "id": "6kyl1vEqjL4K"
      },
      "source": [
        "### Método para determinar cuando detenerse al generar nuevos datos"
      ]
    },
    {
      "cell_type": "markdown",
      "metadata": {
        "id": "R0RVsUeejL4K"
      },
      "source": [
        "1. Elegir un valor aceptable $d$ para la desviación estándar del estimador.\n",
        "\n",
        "2. Generar al menos 30 datos.\n",
        "\n",
        "3. Continuar generando más datos, hasta detenerse cuando se hayan generado $k$ valores y $\\frac{S}{\\sqrt{k}}<d$, donde $S$ es la desviación estándar muestral basada en estos $k$ valores.\n",
        "\n",
        "4. La estimación de $\\theta$ está dada por $\\bar{X}=\\sum_{i=1}^k \\frac{X-i}{k}$."
      ]
    },
    {
      "cell_type": "markdown",
      "metadata": {
        "id": "aX06ZnMijL4L"
      },
      "source": [
        "# <font color='blue'> Intervalos de Confianza"
      ]
    },
    {
      "cell_type": "markdown",
      "metadata": {
        "id": "kvUflQaxjL4L"
      },
      "source": [
        "El intervalo de confianza a $((1-\\alpha) \\times 100)$ % para una población de media $\\mu$ está dado por la fórmula:"
      ]
    },
    {
      "cell_type": "markdown",
      "metadata": {
        "id": "JxPuKlxbjL4L"
      },
      "source": [
        "$$\\bar{x} \\pm t \\times \\frac{s}{\\sqrt{n}},$$"
      ]
    },
    {
      "cell_type": "markdown",
      "metadata": {
        "id": "bJhtpXbRjL4M"
      },
      "source": [
        "donde:\n",
        "\n",
        "$t$ es una variable aleatoria que tiene una distribución t de Student con $(n-1)$ grados de libertad.\n",
        "\n",
        "$\\bar{x}$ es la media muestral\n",
        "\n",
        "$s$ es la desviación estándar muestral\n",
        "\n",
        "$n$ es el tamaño de la muestra\n",
        "\n",
        "$\\alpha$ es el nivel de significancia\n",
        "\n",
        "$(1 - \\alpha)$ es el nivel de confianza"
      ]
    },
    {
      "cell_type": "code",
      "execution_count": 6,
      "metadata": {
        "id": "f42ViQ_ujL4M"
      },
      "outputs": [],
      "source": [
        "import statistics as stat\n",
        "import math"
      ]
    },
    {
      "cell_type": "code",
      "execution_count": 7,
      "metadata": {
        "id": "VocetQsQjL4N"
      },
      "outputs": [],
      "source": [
        "muestra = [3.2, 3, 2.8, 2.9, 3.1]"
      ]
    },
    {
      "cell_type": "code",
      "execution_count": 8,
      "metadata": {
        "id": "nN3oeynHjL4N",
        "outputId": "e3bf4492-473c-4780-91bf-839dbea320fb",
        "colab": {
          "base_uri": "https://localhost:8080/"
        }
      },
      "outputs": [
        {
          "output_type": "stream",
          "name": "stdout",
          "text": [
            "Intervalo de confianza: 2.8 3.2\n"
          ]
        }
      ],
      "source": [
        "n=len(muestra)             # cantidad de datos\n",
        "mean=stat.mean(muestra)    # media muestral\n",
        "s=stat.stdev(muestra)      # desviacion estandar muestral\n",
        "\n",
        "t=2.776                    # para un nivel de confianza al 95%\n",
        "\n",
        "# usamos las formulas\n",
        "ic1 = mean - t*(s/math.sqrt(n))\n",
        "ic2 = mean + t*(s/math.sqrt(n))\n",
        "\n",
        "print(\"Intervalo de confianza:\", round(ic1, 2), round(ic2, 2))"
      ]
    },
    {
      "cell_type": "markdown",
      "metadata": {
        "id": "E0pAPhgwjL4N"
      },
      "source": [
        "### Ejercicio:\n",
        "\n",
        "1. Hacer una función que devuelva el intervalo de confianza.\n",
        "\n",
        "2. Calcular los intervalos de confianza a 80, 90, 95, 98 y 99% con la muestra:\n",
        "\n",
        "  $\\{3.33, \\; 3.15,\\; 2.91,\\; 3.05,\\; 2.75 \\}$"
      ]
    },
    {
      "cell_type": "code",
      "execution_count": 13,
      "metadata": {
        "id": "NLZlJZQ1jL4O"
      },
      "outputs": [],
      "source": [
        "import math\n",
        "from scipy.stats import norm\n",
        "\n",
        "def calcular_intervalo_confianza(muestra, confianza):\n",
        "    n = len(muestra)  # Tamaño de la muestra\n",
        "    p = sum(muestra) / n  # Proporción de éxitos en la muestra\n",
        "\n",
        "    # Cálculo del intervalo de confianza utilizando la distribución normal\n",
        "    z = norm.ppf(1 - (1 - confianza) / 2)\n",
        "    prop_error = max(p * (1 - p), 1e-8)  # Valor mínimo para evitar números negativos en la raíz cuadrada\n",
        "    error = z * math.sqrt(prop_error / n)\n",
        "    intervalo_inferior = p - error\n",
        "    intervalo_superior = p + error\n",
        "\n",
        "    return intervalo_inferior, intervalo_superior"
      ]
    },
    {
      "cell_type": "code",
      "source": [
        "muestra = [3.33, 3.15, 2.91, 3.05, 2.75]\n",
        "niveles_confianza = [0.8, 0.9, 0.95, 0.98, 0.99]\n",
        "\n",
        "for confianza in niveles_confianza:\n",
        "    intervalo = calcular_intervalo_confianza(muestra, confianza)\n",
        "    print(\"Intervalo de confianza al\", confianza*100, \"%:\", intervalo)"
      ],
      "metadata": {
        "id": "VK3CTgckjiD9",
        "outputId": "acb65d5e-3cc7-4e6e-90ec-9bbadda42b84",
        "colab": {
          "base_uri": "https://localhost:8080/"
        }
      },
      "execution_count": 14,
      "outputs": [
        {
          "output_type": "stream",
          "name": "stdout",
          "text": [
            "Intervalo de confianza al 80.0 %: (3.0379426872716557, 3.038057312728345)\n",
            "Intervalo de confianza al 90.0 %: (3.0379264399095423, 3.0380735600904583)\n",
            "Intervalo de confianza al 95.0 %: (3.0379123477459427, 3.038087652254058)\n",
            "Intervalo de confianza al 98.0 %: (3.037895962560287, 3.0381040374397137)\n",
            "Intervalo de confianza al 99.0 %: (3.037884805411577, 3.0381151945884235)\n"
          ]
        }
      ]
    }
  ],
  "metadata": {
    "kernelspec": {
      "display_name": "Python 3",
      "language": "python",
      "name": "python3"
    },
    "language_info": {
      "codemirror_mode": {
        "name": "ipython",
        "version": 3
      },
      "file_extension": ".py",
      "mimetype": "text/x-python",
      "name": "python",
      "nbconvert_exporter": "python",
      "pygments_lexer": "ipython3",
      "version": "3.7.3"
    },
    "colab": {
      "provenance": []
    }
  },
  "nbformat": 4,
  "nbformat_minor": 0
}