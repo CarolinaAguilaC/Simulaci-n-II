{
  "cells": [
    {
      "cell_type": "markdown",
      "metadata": {
        "id": "view-in-github",
        "colab_type": "text"
      },
      "source": [
        "<a href=\"https://colab.research.google.com/github/CarolinaAguilaC/Simulaci-n-II/blob/main/Generacion_de_variables_aleatorias.ipynb\" target=\"_parent\"><img src=\"https://colab.research.google.com/assets/colab-badge.svg\" alt=\"Open In Colab\"/></a>"
      ]
    },
    {
      "cell_type": "markdown",
      "id": "15b71444",
      "metadata": {
        "id": "15b71444"
      },
      "source": [
        "# **Generación de variable aleatorias**"
      ]
    },
    {
      "cell_type": "code",
      "execution_count": null,
      "id": "d0333f65",
      "metadata": {
        "id": "d0333f65"
      },
      "outputs": [],
      "source": [
        "import matplotlib.pyplot as plt\n",
        "import numpy as np\n",
        "import random\n",
        "import random as rnd"
      ]
    },
    {
      "cell_type": "markdown",
      "id": "45fe6983",
      "metadata": {
        "id": "45fe6983"
      },
      "source": [
        "Generamos una lista vacía para guardar la sucesión de números aleatorios a generar."
      ]
    },
    {
      "cell_type": "code",
      "execution_count": null,
      "id": "802546b0",
      "metadata": {
        "id": "802546b0"
      },
      "outputs": [],
      "source": [
        "Lista=[]"
      ]
    },
    {
      "cell_type": "markdown",
      "id": "1c6da234",
      "metadata": {
        "id": "1c6da234"
      },
      "source": [
        "La función randint() devuelve valores enteros en un intervalo dado."
      ]
    },
    {
      "cell_type": "code",
      "execution_count": null,
      "id": "a13381d4",
      "metadata": {
        "id": "a13381d4"
      },
      "outputs": [],
      "source": [
        "for i in range(10):\n",
        "    Lista.append(random.randint(0, 10))"
      ]
    },
    {
      "cell_type": "markdown",
      "id": "13f98a10",
      "metadata": {
        "id": "13f98a10"
      },
      "source": [
        "Podemos construir el histograma y comparar con los valores esperados de la función de distribución de probabilidad, si sabemos que $x_i \\sim U(0,10)$"
      ]
    },
    {
      "cell_type": "code",
      "execution_count": null,
      "id": "aacb6d44",
      "metadata": {
        "id": "aacb6d44",
        "outputId": "dc42da7f-636b-4ef1-952d-86dbc23b6d5a",
        "colab": {
          "base_uri": "https://localhost:8080/",
          "height": 277
        }
      },
      "outputs": [
        {
          "output_type": "display_data",
          "data": {
            "text/plain": [
              "<Figure size 640x480 with 1 Axes>"
            ],
            "image/png": "[encoded data removed]"
          },
          "metadata": {}
        }
      ],
      "source": [
        "plt.hist(Lista, bins = 10, color = \"blue\", rwidth=0.9)\n",
        "plt.title(\"Ejemplo Histograma\")\n",
        "plt.xlabel(\"Números Aleatorios\")\n",
        "plt.ylabel(\"Frecuencia\")\n",
        "plt.show()"
      ]
    },
    {
      "cell_type": "markdown",
      "id": "5f23c61d",
      "metadata": {
        "id": "5f23c61d"
      },
      "source": [
        "Y podemos calcular la media, la varianza y la desviación estándar para comprobar:"
      ]
    },
    {
      "cell_type": "code",
      "execution_count": null,
      "id": "ecefa912",
      "metadata": {
        "id": "ecefa912",
        "outputId": "a3779fa2-656d-41e2-b242-a2170db587f1",
        "colab": {
          "base_uri": "https://localhost:8080/"
        }
      },
      "outputs": [
        {
          "output_type": "execute_result",
          "data": {
            "text/plain": [
              "6.1"
            ]
          },
          "metadata": {},
          "execution_count": 13
        }
      ],
      "source": [
        "np.mean(Lista)"
      ]
    },
    {
      "cell_type": "code",
      "execution_count": null,
      "id": "464e1f53",
      "metadata": {
        "id": "464e1f53",
        "outputId": "2a8137d6-ac67-4f6f-9773-a26809ac604b",
        "colab": {
          "base_uri": "https://localhost:8080/"
        }
      },
      "outputs": [
        {
          "output_type": "execute_result",
          "data": {
            "text/plain": [
              "3.8899999999999997"
            ]
          },
          "metadata": {},
          "execution_count": 14
        }
      ],
      "source": [
        "np.var(Lista)"
      ]
    },
    {
      "cell_type": "code",
      "execution_count": null,
      "id": "30ce2169",
      "metadata": {
        "id": "30ce2169",
        "outputId": "d3160494-8ae5-41d1-9a70-4fec54066a66",
        "colab": {
          "base_uri": "https://localhost:8080/"
        }
      },
      "outputs": [
        {
          "output_type": "execute_result",
          "data": {
            "text/plain": [
              "1.972308292331602"
            ]
          },
          "metadata": {},
          "execution_count": 16
        }
      ],
      "source": [
        "np.std(Lista)"
      ]
    },
    {
      "cell_type": "code",
      "execution_count": null,
      "id": "ea088c1e",
      "metadata": {
        "id": "ea088c1e"
      },
      "outputs": [],
      "source": [
        "def doce_u():\n",
        " a=0\n",
        " for i in range(12):\n",
        "  u_i=rnd.random()\n",
        "  a+=u_i\n",
        " return(a-6.0)"
      ]
    },
    {
      "cell_type": "code",
      "source": [
        "x=(doce_u()**0.135-(1-doce_u())**0.135)/0.1975"
      ],
      "metadata": {
        "id": "kEdKTjeDQiV5"
      },
      "id": "kEdKTjeDQiV5",
      "execution_count": null,
      "outputs": []
    },
    {
      "cell_type": "code",
      "source": [
        "for i in range(10000):\n",
        " x=(doce_u()**0.135-(1-doce_u())**0.135)/0.1975\n",
        " Lista.append(x)"
      ],
      "metadata": {
        "id": "8Z_Od1fGRWvy"
      },
      "id": "8Z_Od1fGRWvy",
      "execution_count": null,
      "outputs": []
    },
    {
      "cell_type": "markdown",
      "id": "4ba67944",
      "metadata": {
        "id": "4ba67944"
      },
      "source": [
        "## ¿Cómo podemos generar una lista de números aleatorios que sigan una distribución normal?"
      ]
    },
    {
      "cell_type": "code",
      "source": [
        "plt.hist(Lista, bins=1000, color = \"pink\", rwidth=0.9)\n",
        "plt.title(\"Histograma\")\n",
        "plt.xlabel(\"Números aleatorios\")\n",
        "plt.ylabel(\"Frecuencia\")\n",
        "plt.show()"
      ],
      "metadata": {
        "id": "1OcQEDuRSDc8",
        "outputId": "f3df83dd-0cac-4cfa-cdd1-c04e13da0c84",
        "colab": {
          "base_uri": "https://localhost:8080/",
          "height": 492
        }
      },
      "id": "1OcQEDuRSDc8",
      "execution_count": null,
      "outputs": [
        {
          "output_type": "display_data",
          "data": {
            "text/plain": [
              "<Figure size 640x480 with 1 Axes>"
            ],
            "image/png": "[encoded data removed]"
          },
          "metadata": {}
        }
      ]
    },
    {
      "cell_type": "markdown",
      "id": "855f2e6a",
      "metadata": {
        "id": "855f2e6a"
      },
      "source": [
        "Podemos utilizar el Teorema Centra del Límite: Dadas las variables $T_1, T_2,..., T_n$ identicamente distribuidas e independientes, se tiene que:\n",
        "\n",
        "$$\\frac{\\bar{T}-\\mu_T}{\\frac{\\sigma_T}{\\sqrt{n}}}=\\frac{\\sqrt{n}(\\frac{1}{n}\\sum_{i=1}^n T_i - E(T_i)) }{\\sqrt{Var(T_i)}} \\sim N(0,1)$$\n",
        "\n",
        "para $n$ suficientemente grande."
      ]
    },
    {
      "cell_type": "markdown",
      "id": "b5f104e6",
      "metadata": {
        "id": "b5f104e6"
      },
      "source": [
        "**Ejercicio:** Genere números aleatorios distribuidos uniformenete entre 0 y 1 y use la fórmula anterior para generar números distribuidos de manera normal en el mismo intervalo. Elabore el histograma correspondiente."
      ]
    },
    {
      "cell_type": "code",
      "execution_count": 1,
      "id": "ed81a320",
      "metadata": {
        "id": "ed81a320",
        "outputId": "b5b73d9e-c261-41e5-d941-5e141d90e739",
        "colab": {
          "base_uri": "https://localhost:8080/",
          "height": 472
        }
      },
      "outputs": [
        {
          "output_type": "display_data",
          "data": {
            "text/plain": [
              "<Figure size 640x480 with 1 Axes>"
            ],
            "image/png": "[encoded data removed]"
          },
          "metadata": {}
        }
      ],
      "source": [
        "import numpy as np\n",
        "import matplotlib.pyplot as plt\n",
        "\n",
        "# Generar números aleatorios uniformemente distribuidos entre 0 y 1\n",
        "uniform_numbers = np.random.uniform(0, 1, 10000)\n",
        "\n",
        "# Generar números aleatorios normalmente distribuidos entre 0 y 1\n",
        "normal_numbers = np.random.normal(0.5, 0.1, 10000)\n",
        "\n",
        "# Trazar histograma para los números uniformemente distribuidos\n",
        "plt.hist(uniform_numbers, bins=50, density=True, alpha=0.7, color='blue', label='Uniforme')\n",
        "\n",
        "# Trazar histograma para los números normalmente distribuidos\n",
        "plt.hist(normal_numbers, bins=50, density=True, alpha=0.7, color='red', label='Normal')\n",
        "\n",
        "# Configuraciones del gráfico\n",
        "plt.title('Histograma de números aleatorios')\n",
        "plt.xlabel('Valor')\n",
        "plt.ylabel('Densidad')\n",
        "plt.legend()\n",
        "\n",
        "# Mostrar el gráfico\n",
        "plt.show()\n"
      ]
    }
  ],
  "metadata": {
    "kernelspec": {
      "display_name": "Python 3 (ipykernel)",
      "language": "python",
      "name": "python3"
    },
    "language_info": {
      "codemirror_mode": {
        "name": "ipython",
        "version": 3
      },
      "file_extension": ".py",
      "mimetype": "text/x-python",
      "name": "python",
      "nbconvert_exporter": "python",
      "pygments_lexer": "ipython3",
      "version": "3.7.3"
    },
    "colab": {
      "provenance": [],
      "include_colab_link": true
    }
  },
  "nbformat": 4,
  "nbformat_minor": 5
}