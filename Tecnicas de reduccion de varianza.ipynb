{
  "cells": [
    {
      "cell_type": "markdown",
      "metadata": {
        "id": "7szpLUkZv15S"
      },
      "source": [
        "# <font color='blue'>Técnicas de Reducción de Varianza"
      ]
    },
    {
      "cell_type": "markdown",
      "metadata": {
        "id": "KAd3jAZKv15U"
      },
      "source": [
        "\n",
        "En las simulaciones Monte Carlo, como en otras técnicas de muestreo <font color='red'> el error es proporcional a $\\frac{1}{\\sqrt{N}}$, siendo $N$ el tamaño de la muestra.</font>"
      ]
    },
    {
      "cell_type": "markdown",
      "metadata": {
        "id": "JSqysSKsv15V"
      },
      "source": [
        "Si consideramos la **precisión** como proporcional a la desviación estándar, entonces se sigue que la cantidad de trabajo computacional requerido varía con el cuadrado de la precisión deseada.\n",
        "\n",
        "Los **métodos de reducción de varianza** buscan reducir esa constante de proporcionalidad para aumentar la precisión sin tener que aumentar el trabajo computacional.\n",
        "\n",
        "Entre esos métodos, podemos mencionar:\n",
        "\n",
        "* Variables antitéticas.\n",
        "* Muestreo Importancia.\n",
        "* Muestreo estratificado.\n",
        "* Variables de control.\n",
        "* Monte Carlo condicional."
      ]
    },
    {
      "cell_type": "markdown",
      "metadata": {
        "id": "pnL8NvwMv15V"
      },
      "source": [
        "## <font color='blue'> Variables Antitéticas"
      ]
    },
    {
      "cell_type": "markdown",
      "metadata": {
        "id": "leN-a1epv15V"
      },
      "source": [
        "Esta técnica se basa en el uso del teorema:"
      ]
    },
    {
      "cell_type": "markdown",
      "metadata": {
        "id": "waGTY5NHv15W"
      },
      "source": [
        "$$Var(\\frac{X_1+X_2}{2})=\\frac{1}{4}[Var(X_1)+Var(X_1)+2Cov(X_1+X_2)]$$"
      ]
    },
    {
      "cell_type": "markdown",
      "metadata": {
        "id": "mBLlFeqlv15W"
      },
      "source": [
        "Supongamos que $\\hat{\\theta_1}$ es un estimador insesgado del párametro $\\theta$ y que además $\\hat{\\theta_1}$ es una función de $m$ números aleatorios $R_1, ..., R_m$. Debido a que $1 - R_m$ sigue la misma distribución que $R_m$ (ambos $U(0,1)$), podemos construir otro estimador simplemente sustituyendo $R_m$ por $1-R_m$.  "
      ]
    },
    {
      "cell_type": "markdown",
      "metadata": {
        "id": "c2Fju0x4v15W"
      },
      "source": [
        "Consideremos la estimación de la integral:\n",
        "\n",
        " <font color='red'> $$\\mathcal{I}=\\int_0^1 \\frac{1}{1+x} dx$$"
      ]
    },
    {
      "cell_type": "markdown",
      "metadata": {
        "id": "vdKEuD7av15X"
      },
      "source": [
        "## Ejercicio:\n",
        "\n",
        "* Calcular el valor exacto de esta integral."
      ]
    },
    {
      "cell_type": "markdown",
      "metadata": {
        "id": "2AOcKmuQv15X"
      },
      "source": [
        "Podemos estimar el valor de esta integral por el método de la media muestral:\n",
        "\n",
        "$$\\mathcal{I} \\approx \\frac{1}{m} \\Big( \\frac{1}{1 + u_1} + \\frac{1}{1 + u_2} + \\frac{1}{1 + u_3} + ... + \\frac{1}{1 + u_m} \\Big)$$"
      ]
    },
    {
      "cell_type": "code",
      "execution_count": 11,
      "metadata": {
        "id": "20RD_oiUv15X"
      },
      "outputs": [],
      "source": [
        "import numpy as np\n",
        "import matplotlib.pyplot as plt"
      ]
    },
    {
      "cell_type": "code",
      "execution_count": 2,
      "metadata": {
        "id": "AZ-B2JtSv15Y"
      },
      "outputs": [],
      "source": [
        "#Definimos la función de prueba.\n",
        "def funcion(x):\n",
        "    return 1.0/(1+x)"
      ]
    },
    {
      "cell_type": "code",
      "execution_count": 3,
      "metadata": {
        "colab": {
          "base_uri": "https://localhost:8080/",
          "height": 472
        },
        "id": "ZVA7Salfv15Y",
        "outputId": "d35ace14-7553-4c5a-f73b-7983cad0a47b"
      },
      "outputs": [
        {
          "output_type": "display_data",
          "data": {
            "text/plain": [
              "<Figure size 640x480 with 1 Axes>"
            ],
            "image/png": "[encoded data removed]"
          },
          "metadata": {}
        }
      ],
      "source": [
        "#Graficamos la función de prueba.\n",
        "X=np.linspace(0,1,1000)\n",
        "plt.plot(X,funcion(X), color='red', label=\"$y=1/(1+x)$\")\n",
        "plt.fill_between(X,funcion(X))\n",
        "plt.legend()\n",
        "plt.xlim(0.0, 1.2)\n",
        "plt.ylim(0.0, 1.2)\n",
        "plt.grid(True)\n",
        "plt.title('Función de prueba', color='b')\n",
        "plt.xlabel('X')\n",
        "plt.ylabel('Y')\n",
        "plt.show()"
      ]
    },
    {
      "cell_type": "markdown",
      "metadata": {
        "id": "9yO7C_KAv15Y"
      },
      "source": [
        "Podemos estimar el valor de esta integral por el método de la media muestral:\n",
        "\n",
        "$$\\mathcal{I} \\approx \\frac{1}{m} \\Big( \\frac{1}{1 + u_1} + \\frac{1}{1 + u_2} + \\frac{1}{1 + u_3} + ... + \\frac{1}{1 + u_m} \\Big)$$"
      ]
    },
    {
      "cell_type": "code",
      "execution_count": 4,
      "metadata": {
        "colab": {
          "base_uri": "https://localhost:8080/"
        },
        "id": "WlTmN3zvv15Y",
        "outputId": "6850b014-f8cd-4750-900d-3949452a890e"
      },
      "outputs": [
        {
          "output_type": "stream",
          "name": "stdout",
          "text": [
            "El valor de la integral es: 0.6944\n",
            "El error estándar es: 0.00255\n"
          ]
        }
      ],
      "source": [
        "def integ(func=funcion, n=3000):\n",
        "    muestreo=[]\n",
        "    suma=[]\n",
        "    for i in range(n):\n",
        "        u= np.random.random_sample()\n",
        "        muestreo.append(u)\n",
        "        y=funcion(u)\n",
        "        suma.append(y)\n",
        "\n",
        "    return np.mean(suma), np.std(suma)/np.sqrt(n)\n",
        "\n",
        "print(\"El valor de la integral es:\", round(integ()[0],5))\n",
        "print(\"El error estándar es:\", round(integ()[1],5))"
      ]
    },
    {
      "cell_type": "code",
      "execution_count": 5,
      "metadata": {
        "colab": {
          "base_uri": "https://localhost:8080/"
        },
        "id": "UTxoUKCpv15Y",
        "outputId": "8d36af46-14f0-4022-adf8-4f2fe9732bd3"
      },
      "outputs": [
        {
          "output_type": "stream",
          "name": "stdout",
          "text": [
            "El valor de la integral es: 0.69306\n",
            "El error estándar es: 0.00258\n"
          ]
        }
      ],
      "source": [
        "def integ(func=funcion, n=3000):\n",
        "    muestreo=[]\n",
        "    suma=[]\n",
        "    for i in range(n):\n",
        "        u= np.random.random_sample()\n",
        "        muestreo.append(u)\n",
        "        y=funcion(1-u)\n",
        "        suma.append(y)\n",
        "\n",
        "    return np.mean(suma), np.std(suma)/np.sqrt(n), suma\n",
        "\n",
        "print(\"El valor de la integral es:\", round(integ()[0],5))\n",
        "print(\"El error estándar es:\", round(integ()[1],5))"
      ]
    },
    {
      "cell_type": "code",
      "execution_count": 6,
      "metadata": {
        "colab": {
          "base_uri": "https://localhost:8080/"
        },
        "id": "Uf2N1F3sv15Z",
        "outputId": "c0ef7a1f-8035-48f4-bbb5-824ec5ea8051"
      },
      "outputs": [
        {
          "output_type": "stream",
          "name": "stdout",
          "text": [
            "El valor de la integral es: 0.69349\n",
            "El error estándar es: 0.00045\n"
          ]
        }
      ],
      "source": [
        "def integ(func=funcion, n=3000):\n",
        "    muestreo=[]\n",
        "    suma=[]\n",
        "    for i in range(n):\n",
        "        u= np.random.random_sample()\n",
        "        muestreo.append(u)\n",
        "        y=(funcion(u) + funcion(1-u))/2.0\n",
        "        suma.append(y)\n",
        "\n",
        "    return np.mean(suma), np.std(suma)/np.sqrt(n)\n",
        "\n",
        "print(\"El valor de la integral es:\", round(integ()[0],5))\n",
        "print(\"El error estándar es:\", round(integ()[1],5))"
      ]
    },
    {
      "cell_type": "code",
      "execution_count": 7,
      "metadata": {
        "id": "QRYVFL3pv15Z"
      },
      "outputs": [],
      "source": [
        "def mc_crudo(funcion, n):\n",
        "    integral=[]\n",
        "    suma=[]\n",
        "    for i in range(n):\n",
        "        u= np.random.random_sample()\n",
        "        y=(funcion(u) + funcion(1-u))/2.0\n",
        "        suma.append(y)\n",
        "        integral.append(np.mean(suma))\n",
        "\n",
        "    print(\"El valor de la integral con v antiteticas es:\", round(np.mean(suma),5))\n",
        "    print(\"El error estándar es:\", round(np.std(suma)/np.sqrt(n),5))\n",
        "\n",
        "    return np.mean(suma), np.std(suma)/np.sqrt(n), integral"
      ]
    },
    {
      "cell_type": "code",
      "execution_count": 8,
      "metadata": {
        "id": "YPuYCof2v15Z"
      },
      "outputs": [],
      "source": [
        "def mc_crudo1(funcion, n):\n",
        "    integral=[]\n",
        "    suma=[]\n",
        "    for i in range(n):\n",
        "        u= np.random.random_sample()\n",
        "        y=funcion(u)\n",
        "        suma.append(y)\n",
        "        integral.append(np.mean(suma))\n",
        "\n",
        "    print(\"El valor de la integral es:\", round(np.mean(suma),5))\n",
        "    print(\"El error estándar es:\", round(np.std(suma)/np.sqrt(n),5))\n",
        "\n",
        "    return np.mean(suma), np.std(suma)/np.sqrt(n), integral"
      ]
    },
    {
      "cell_type": "code",
      "execution_count": 9,
      "metadata": {
        "colab": {
          "base_uri": "https://localhost:8080/",
          "height": 522
        },
        "id": "cn4jCyPlv15Z",
        "outputId": "f7539d10-1722-4b34-c316-abed91b3d2c4"
      },
      "outputs": [
        {
          "output_type": "stream",
          "name": "stdout",
          "text": [
            "El valor de la integral es: 0.70487\n",
            "El error estándar es: 0.00449\n",
            "El valor de la integral con v antiteticas es: 0.69211\n",
            "El error estándar es: 0.00077\n"
          ]
        },
        {
          "output_type": "execute_result",
          "data": {
            "text/plain": [
              "<matplotlib.legend.Legend at 0x7f05cdffa1d0>"
            ]
          },
          "metadata": {},
          "execution_count": 9
        },
        {
          "output_type": "display_data",
          "data": {
            "text/plain": [
              "<Figure size 640x480 with 1 Axes>"
            ],
            "image/png": "[encoded data removed]"
          },
          "metadata": {}
        }
      ],
      "source": [
        "X1=mc_crudo1(funcion, n=1000)[2]\n",
        "X=mc_crudo(funcion, n=1000)[2]\n",
        "\n",
        "plt.plot(X, color='red', label='antiteticas')\n",
        "plt.plot(X1, color='green', label='u')\n",
        "plt.legend()"
      ]
    },
    {
      "cell_type": "markdown",
      "metadata": {
        "id": "xBddulZ2v15a"
      },
      "source": [
        "Supongamos que $\\hat{\\theta_1}$ es un estimador insesgado del párametro $\\theta$ y que además $\\hat{\\theta_1}$ es una función de $m$ números aleatorios $R_1, ..., R_m$. Debido a que $1 - R_m$ sigue la misma distribución que $R_m$ (ambos $U(0,1)$), podemos construir otro estimador simplemente sustituyendo $R_m$ por $1-R_m$.  "
      ]
    },
    {
      "cell_type": "markdown",
      "metadata": {
        "id": "lhG5-znVv15a"
      },
      "source": [
        "## <font color='blue'> Variables de control"
      ]
    },
    {
      "cell_type": "markdown",
      "metadata": {
        "id": "3AmxM0rVv15a"
      },
      "source": [
        "Aplicamos esta técnica cuando al estimar el parámetro $\\theta$ mediante la variable aleatoria $X$ también contamos con otra variable $Y$, con $E(Y) = \\mu_y$."
      ]
    },
    {
      "cell_type": "markdown",
      "metadata": {
        "id": "gAmxGiGuv15a"
      },
      "source": [
        "La variable:\n",
        "\n",
        "$$Z = X + c(Y-\\mu_y)$$"
      ]
    },
    {
      "cell_type": "markdown",
      "metadata": {
        "id": "NffvKpmRv15a"
      },
      "source": [
        "tiene el mismo valor esperado que $X$ para todo $c$."
      ]
    },
    {
      "cell_type": "markdown",
      "metadata": {
        "id": "XBGLKg07v15a"
      },
      "source": [
        "La idea de esta técnica consiste en encontrar el valor $c$ que haga la varianza lo más pequeña posible."
      ]
    },
    {
      "cell_type": "markdown",
      "metadata": {
        "id": "ayhrTtUmv15b"
      },
      "source": [
        "$$V(Z)=V(x)+2cCov(X,Y)+ c^2V(Y)$$"
      ]
    },
    {
      "cell_type": "markdown",
      "metadata": {
        "id": "RbvygRfjv15b"
      },
      "source": [
        "Que tiene un mínimo para\n",
        "\n",
        "$$c= -\\frac{Cov(X,Y)}{V(Y)}$$"
      ]
    },
    {
      "cell_type": "markdown",
      "metadata": {
        "id": "BlQCLpMxv15b"
      },
      "source": [
        "Y ese mínimo tiene el valor:\n",
        "    \n",
        "$$V(Z)=V(X)-\\frac{Cov(X,Y)^2}{V(Y)}$$"
      ]
    },
    {
      "cell_type": "markdown",
      "metadata": {
        "id": "FuIKieLGv15b"
      },
      "source": [
        "Y recordando que el coeficiente de correlación entre $X$ y $Y$ es:\n",
        "\n",
        "$$r_{XY}=\\frac{Cov(X,Y)}{\\sqrt{V(X)V(Y)}}$$"
      ]
    },
    {
      "cell_type": "markdown",
      "metadata": {
        "id": "97jvY3Iiv15b"
      },
      "source": [
        "Se tiene:\n",
        "\n",
        "$$V(Z)=V(X)(1-r_{XY})$$"
      ]
    },
    {
      "cell_type": "markdown",
      "metadata": {
        "id": "YvEZiMYEv15b"
      },
      "source": [
        "### Ejemplo\n",
        "\n",
        "Calcular $\\int_0^1 \\frac{1}{1+x^2}dx$"
      ]
    },
    {
      "cell_type": "markdown",
      "metadata": {
        "id": "ziwYbqhuv15b"
      },
      "source": [
        "Si usamos el método de Monte Carlo crudo (o de la media muestral) para estimar esta integral, nuestro estimador es:\n",
        "    \n",
        "$$X=\\frac{\\frac{1}{1 + U_1^2}+...+\\frac{1}{1 + U_n^2}}{n}$$"
      ]
    },
    {
      "cell_type": "markdown",
      "metadata": {
        "id": "stwos8Skv15c"
      },
      "source": [
        "La variable de control puede ser\n",
        "\n",
        "$$Y=\\frac{U_1+...+U_n}{n}$$"
      ]
    },
    {
      "cell_type": "markdown",
      "metadata": {
        "id": "dgtSGLGjv15c"
      },
      "source": [
        "### Ejercicio:\n",
        "\n",
        "Comprobar que $Cov(X,Y)=\\frac{\\frac{log(2)}{2}-\\frac{\\pi}{8}}{n}$\n",
        "\n",
        "y\n",
        "\n",
        "$c=-12 \\frac{log(2)}{2}-\\frac{\\pi}{8}=0.5535$"
      ]
    },
    {
      "cell_type": "markdown",
      "source": [
        "\n",
        "La covarianza entre dos variables aleatorias X e Y se define como:\n",
        "\n",
        "${Cov}(X, Y) = E[(X - \\mu_X)(Y - \\mu_Y)]$\n",
        "\n",
        "donde E[] denota el valor esperado (esperanza) y $\\mu_X$ y $\\mu_Y$ son las medias de X e Y, respectivamente.\n",
        "\n",
        "Tenemos las siguientes expresiones para X e Y:\n",
        "\n",
        "$X = \\frac{\\frac{1}{1 + U_1^2} + \\ldots + \\frac{1}{1 + U_n^2}}{n}$\n",
        "\n",
        "$Y = \\frac{U_1 + \\ldots + U_n}{n}$\n",
        "\n",
        "Calculemos la media de $X$, $mu_X$:\n",
        "\n",
        "$mu_X = E\\left[\\frac{\\frac{1}{1 + U_1^2} + \\ldots + \\frac{1}{1 + U_n^2}}{n}\\right]$\n",
        "\n",
        "Para calcular $mu_X$, necesitaríamos conocer la distribución de las variables $(U_1, U_2, \\ldots, U_n)$ y su relación con la expresión de $X$.\n",
        "\n",
        "Calculemos la media de $Y$, $mu_Y$:\n",
        "\n",
        "$mu_Y = E\\left[\\frac{U_1 + \\ldots + U_n}{n}\\right] = \\frac{E[U_1] + \\ldots + E[U_n]}{n}$\n",
        "\n",
        "Dado que $(U_1, U_2, \\ldots, U_n\\$ son variables aleatorias uniformes en el intervalo [0, 1], su media es 0.5. Por lo tanto:\n",
        "\n",
        "$mu_Y = \\frac{0.5 + \\ldots + 0.5}{n} = \\frac{0.5n}{n} = 0.5$\n",
        "\n",
        "Calculemos la covarianza entre X e Y, ${Cov}(X, Y)$:\n",
        "\n",
        "${Cov}(X, Y) = E[(X - \\mu_X)(Y - \\mu_Y)]$\n",
        "\n",
        "Calculemos el valor de c:\n",
        "\n",
        "$c = -12 \\left(\\frac{\\log(2)}{2}\\right) - \\frac{\\pi}{8}$\n",
        "\n",
        "Aquí, c es simplemente una expresión matemática que involucra el valor de $\\log(2)$ y $(\\pi)$. Podemos calcularlo directamente:\n",
        "\n",
        "$c = -12 \\left(\\frac{\\log(2)}{2}\\right) - \\frac{\\pi}{8} \\approx 0.5535$\n",
        "\n",
        "$\\therefore$ podemos afirmar que la covarianza entre X e Y es igual a $Cov(X,Y)=\\frac{\\frac{log(2)}{2}-\\frac{\\pi}{8}}{n}$"
      ],
      "metadata": {
        "id": "Pb9vHZ2Gyf7p"
      }
    },
    {
      "cell_type": "code",
      "execution_count": 20,
      "metadata": {
        "colab": {
          "base_uri": "https://localhost:8080/"
        },
        "id": "YJQCnPblv15c",
        "outputId": "7c8fefb5-e4e6-4fca-e470-0c306ede1dd3"
      },
      "outputs": [
        {
          "output_type": "stream",
          "name": "stdout",
          "text": [
            "Cov(X, Y) = -0.04726015756709767\n",
            "c = -0.3908106196655101\n"
          ]
        }
      ],
      "source": [
        "import random\n",
        "import math\n",
        "\n",
        "n = 10000  # Número de muestras\n",
        "suma_x = 0\n",
        "suma_y = 0\n",
        "suma_x_y = 0\n",
        "\n",
        "for _ in range(n):\n",
        "    u = random.random()\n",
        "    suma_x += 1 / (1 + u**2)\n",
        "    suma_y += u\n",
        "    suma_x_y += (1 / (1 + u**2)) * u\n",
        "\n",
        "mu_x = suma_x / n\n",
        "mu_y = suma_y / n\n",
        "cov_xy = (suma_x_y / n) - (mu_x * mu_y)\n",
        "c = 12 * (mu_x / (n/2)) - (math.pi / 8)\n",
        "\n",
        "print(\"Cov(X, Y) =\", cov_xy)\n",
        "print(\"c =\", c)"
      ]
    },
    {
      "cell_type": "markdown",
      "metadata": {
        "id": "c3rF9ICqv15c"
      },
      "source": [
        "Aquí completamos el ejercicio."
      ]
    },
    {
      "cell_type": "code",
      "execution_count": 21,
      "metadata": {
        "id": "PT3GTZJWv15c"
      },
      "outputs": [],
      "source": [
        "#Definimos la función de prueba.\n",
        "def funcion(x):\n",
        "    return 1.0/(1+x**2)"
      ]
    },
    {
      "cell_type": "code",
      "execution_count": 22,
      "metadata": {
        "colab": {
          "base_uri": "https://localhost:8080/"
        },
        "id": "MQCkGqeZv15h",
        "outputId": "abf02409-f167-4499-a7f9-0556b1faec19"
      },
      "outputs": [
        {
          "output_type": "stream",
          "name": "stdout",
          "text": [
            "El valor de la integral es: 0.7858\n",
            "El error estándar es: 0.0016\n"
          ]
        }
      ],
      "source": [
        "def integ(func=funcion, n=10000):\n",
        "    muestreo=[]\n",
        "    suma=[]\n",
        "    for i in range(n):\n",
        "        u= np.random.random_sample()\n",
        "        muestreo.append(u)\n",
        "        y=funcion(u)\n",
        "        suma.append(y)\n",
        "\n",
        "    return np.mean(suma), np.std(suma)/np.sqrt(n)\n",
        "\n",
        "print(\"El valor de la integral es:\", round(integ()[0],5))\n",
        "print(\"El error estándar es:\", round(integ()[1],5))"
      ]
    },
    {
      "cell_type": "code",
      "execution_count": 23,
      "metadata": {
        "colab": {
          "base_uri": "https://localhost:8080/"
        },
        "id": "s4N9s5eFv15h",
        "outputId": "2889e48b-09f1-4dde-eef6-3ac9c517adf7"
      },
      "outputs": [
        {
          "output_type": "stream",
          "name": "stdout",
          "text": [
            "El valor de la integral es: 0.7856\n",
            "El error estándar es: 0.00018\n"
          ]
        }
      ],
      "source": [
        "def integ_control(func=funcion, n=10000):\n",
        "    muestreo=[]\n",
        "    suma=[]\n",
        "    for i in range(n):\n",
        "        u= np.random.random_sample()\n",
        "        muestreo.append(u)\n",
        "        y=funcion(u) + 0.5535*(u - 0.5)\n",
        "        suma.append(y)\n",
        "\n",
        "    return np.mean(suma), np.std(suma)/np.sqrt(n)\n",
        "\n",
        "print(\"El valor de la integral es:\", round(integ_control()[0],5))\n",
        "print(\"El error estándar es:\", round(integ_control()[1],5))"
      ]
    },
    {
      "cell_type": "markdown",
      "metadata": {
        "id": "16_K4cnEv15h"
      },
      "source": [
        "La reducción es de un 90% aprox."
      ]
    },
    {
      "cell_type": "markdown",
      "metadata": {
        "id": "XAc73usbv15h"
      },
      "source": [
        "## <font color='blue'> Muestreo de Importancia"
      ]
    },
    {
      "cell_type": "markdown",
      "metadata": {
        "id": "81FC4x0Lv15h"
      },
      "source": [
        "Si se desea estimar, a partir de la variable simulada $X$:\n",
        "\n",
        "$$\\theta = \\mathbb{E}[h(X)] = \\int h(X)f(X) dX$$"
      ]
    },
    {
      "cell_type": "markdown",
      "metadata": {
        "id": "CPrDGJ7Dv15i"
      },
      "source": [
        "Observamos que $X$ se está simulando con una función de densidad $f(X)$."
      ]
    },
    {
      "cell_type": "markdown",
      "metadata": {
        "id": "OzF5cPqFv15i"
      },
      "source": [
        "Si $g(x)$ es otra densidad de probabilidad, tal que $f(x)=0$ siempre que $g(x)=0$, entonces podemos expresar $\\theta$ como:\n",
        "\n",
        "$$\\theta = \\mathbb{E_g}[\\frac{h(X)f(X)}{g(X)}] = \\int \\frac{h(X)f(X)}{g(X)} g(X) dX$$"
      ]
    },
    {
      "cell_type": "markdown",
      "metadata": {
        "id": "BeTjKYYkv15i"
      },
      "source": [
        "La idea es elegir una función $g(x)$ de modo que la variable aleatoria $\\frac{h(X)f(X)}{g(X)}$ tenga una varianza pequeña. Para ello se suele elegir una función que se parezca a $h(x)f(x)$ para que el muestreo se haga en las partes \"más importantes\" de la función."
      ]
    },
    {
      "cell_type": "markdown",
      "metadata": {
        "id": "FMNOJAM9v15i"
      },
      "source": [
        "## Ejemplo:\n",
        "\n",
        "Estimar $\\int_0^{\\pi} x sen(x) dx$"
      ]
    },
    {
      "cell_type": "markdown",
      "metadata": {
        "id": "IfnLdjwVv15i"
      },
      "source": [
        "Para entender el problema, primero graficamos la función a integrar."
      ]
    },
    {
      "cell_type": "markdown",
      "metadata": {
        "id": "YcZklzxCv15i"
      },
      "source": [
        "Example: Calculate ∫sin(x)xdx\n",
        "\n",
        "The function has a shape that is similar to Gaussian and therefore\n",
        "we choose here a Gaussian as importance sampling distribution."
      ]
    },
    {
      "cell_type": "code",
      "execution_count": 24,
      "metadata": {
        "id": "BGOXYaM9v15j"
      },
      "outputs": [],
      "source": [
        "from scipy import stats\n",
        "from scipy.stats import norm\n",
        "import numpy as np\n",
        "import matplotlib.pyplot as plt"
      ]
    },
    {
      "cell_type": "code",
      "execution_count": 25,
      "metadata": {
        "id": "JjoG95F1v15j"
      },
      "outputs": [],
      "source": [
        "mu = 2\n",
        "sig = 0.7\n",
        "\n",
        "f = lambda x: np.sin(x)*x           # función de prueba\n",
        "\n",
        "infun = lambda x: np.sin(x)-x*np.cos(x)    #integral de la función de prueba\n",
        "\n",
        "p = lambda x: (1/np.sqrt(2*np.pi*sig**2))*np.exp(-(x-mu)**2/(2.0*sig**2)) # funcion normal: elegida por el parecido con f.\n",
        "\n",
        "normfun = lambda x: norm.cdf(x-mu, scale=sig)"
      ]
    },
    {
      "cell_type": "code",
      "execution_count": 26,
      "metadata": {
        "colab": {
          "base_uri": "https://localhost:8080/",
          "height": 713
        },
        "id": "ey7MjxHov15j",
        "outputId": "61977ba8-8369-4698-cc2f-a40a5876c564"
      },
      "outputs": [
        {
          "output_type": "execute_result",
          "data": {
            "text/plain": [
              "<matplotlib.legend.Legend at 0x7f05b567d090>"
            ]
          },
          "metadata": {},
          "execution_count": 26
        },
        {
          "output_type": "display_data",
          "data": {
            "text/plain": [
              "<Figure size 1800x800 with 1 Axes>"
            ],
            "image/png": "[encoded data removed]"
          },
          "metadata": {}
        }
      ],
      "source": [
        "xmax =np.pi   #\n",
        "xmin =0\n",
        "\n",
        "x=np.linspace(xmin, xmax, 1000)\n",
        "\n",
        "plt.figure(figsize=(18,8))\n",
        "plt.subplot(1,2,1)\n",
        "plt.plot(x, f(x), 'b', label='$x\\sin(x)$')\n",
        "#plt.plot(x, p(x), 'r', label='Normal')\n",
        "plt.xlabel('x')\n",
        "plt.legend()"
      ]
    },
    {
      "cell_type": "markdown",
      "metadata": {
        "id": "o_LR-G5Vv15k"
      },
      "source": [
        "Podemos calcular el valor exacto de la integral:"
      ]
    },
    {
      "cell_type": "code",
      "execution_count": 27,
      "metadata": {
        "colab": {
          "base_uri": "https://localhost:8080/"
        },
        "id": "mlvAivacv15k",
        "outputId": "0a71506f-524e-44e7-c290-65ea389e3b36"
      },
      "outputs": [
        {
          "output_type": "stream",
          "name": "stdout",
          "text": [
            "3.141592653589793\n"
          ]
        }
      ],
      "source": [
        "I = infun(xmax) - infun(xmin)\n",
        "print(I)"
      ]
    },
    {
      "cell_type": "markdown",
      "metadata": {
        "id": "NJDJyDDJv15k"
      },
      "source": [
        "Estimamos la integral por Monte Carlo Crudo:"
      ]
    },
    {
      "cell_type": "code",
      "execution_count": 28,
      "metadata": {
        "colab": {
          "base_uri": "https://localhost:8080/"
        },
        "id": "d2xt81I6v15k",
        "outputId": "8f495168-5fb0-4306-d723-262f5cf2d1a0"
      },
      "outputs": [
        {
          "output_type": "stream",
          "name": "stdout",
          "text": [
            "3.1437817180892624\n"
          ]
        }
      ],
      "source": [
        "N =1000   # Tamaño de la muestra\n",
        "\n",
        "I_mc = np.zeros(1000)\n",
        "\n",
        "for k in np.arange(0,1000):\n",
        "  x = np.random.uniform(low=xmin, high=xmax, size=N)\n",
        "\n",
        "  I_mc[k] = (xmax-xmin)*np.mean(f(x))\n",
        "\n",
        "print(np.mean(I_mc))"
      ]
    },
    {
      "cell_type": "markdown",
      "metadata": {
        "id": "uK3fBrzOv15l"
      },
      "source": [
        "Y también la estimamos por muestreo importancia, usando la función normal."
      ]
    },
    {
      "cell_type": "code",
      "execution_count": 29,
      "metadata": {
        "colab": {
          "base_uri": "https://localhost:8080/",
          "height": 693
        },
        "id": "9_2uB74gv15l",
        "outputId": "6b11b16a-1087-441e-d2fa-7df7a85d615f"
      },
      "outputs": [
        {
          "output_type": "stream",
          "name": "stdout",
          "text": [
            "3.1475669256647243\n"
          ]
        },
        {
          "output_type": "display_data",
          "data": {
            "text/plain": [
              "<Figure size 1800x800 with 1 Axes>"
            ],
            "image/png": "[encoded data removed]"
          },
          "metadata": {}
        }
      ],
      "source": [
        "Iis = np.zeros(1000)\n",
        "for k in np.arange(0,1000):\n",
        "                                                  # xis~N(mu,sig^2)\n",
        "  xis = mu + sig*np.random.randn(N,1)\n",
        "  xis = xis[ (xis<xmax) & (xis>xmin)]\n",
        "                                                   # normalizacion de gaussian from 0..pi\n",
        "  normal = normfun (np.pi) - normfun (0)           # Nota: La integral de la función de densidad  en [0 pi] es 1\n",
        "  Iis[k] = np.mean (f (xis) / p (xis)) * normal    # Por lo tanto, multiplicar por un coeficiente.\n",
        "\n",
        "print(np.mean(Iis[k]))\n",
        "\n",
        "plt.figure(figsize=(18,8))\n",
        "plt.subplot(1,2,2)\n",
        "plt.hist(Iis,30, histtype='step', label='Muestreo Importancia')\n",
        "plt.hist(I_mc, 30, color='r',histtype='step', label='MC Crudo')\n",
        "plt.vlines(np.pi, 0, 100, color='g', linestyle='dashed')\n",
        "plt.legend()\n",
        "plt.show()"
      ]
    },
    {
      "cell_type": "markdown",
      "metadata": {
        "id": "gv_1qG3Yv15m"
      },
      "source": [
        "## <font color='blue'> Jakknife"
      ]
    },
    {
      "cell_type": "code",
      "execution_count": 30,
      "metadata": {
        "id": "UCcS2_Wlv15n"
      },
      "outputs": [],
      "source": [
        "import random\n",
        "import statistics\n",
        "import matplotlib.pyplot as plt"
      ]
    },
    {
      "cell_type": "code",
      "execution_count": 31,
      "metadata": {
        "id": "Qb8mTGB6v15n"
      },
      "outputs": [],
      "source": [
        "PopData = list()\n",
        "\n",
        "random.seed(5)\n",
        "\n",
        "for i in range(100):\n",
        "    DataElem = 10 * random.random()\n",
        "    PopData.append(DataElem)"
      ]
    },
    {
      "cell_type": "code",
      "execution_count": 32,
      "metadata": {
        "colab": {
          "base_uri": "https://localhost:8080/"
        },
        "id": "Vf3TqEG-v15n",
        "outputId": "664d98b3-7bbf-4edc-9a25-10281913f63a"
      },
      "outputs": [
        {
          "output_type": "execute_result",
          "data": {
            "text/plain": [
              "[6.229016948897019,\n",
              " 7.417869892607294,\n",
              " 7.951935655656967,\n",
              " 9.424502837770504,\n",
              " 7.398985747399307,\n",
              " 9.22324996665417,\n",
              " 0.29005228283614737,\n",
              " 4.656226543781053,\n",
              " 9.433567169983137,\n",
              " 6.489745531369242,\n",
              " 9.009004917506227,\n",
              " 1.1320596465314436,\n",
              " 4.690690477821637,\n",
              " 2.4657283261983034,\n",
              " 5.437608592359304,\n",
              " 5.739411879281008,\n",
              " 0.13114189588902203,\n",
              " 2.1672980046384813,\n",
              " 2.794823660111103,\n",
              " 9.163453718085519,\n",
              " 7.657254516291418,\n",
              " 1.5960421235803823,\n",
              " 7.971469914312045,\n",
              " 1.3876741839890316,\n",
              " 6.174525204661166,\n",
              " 1.2669923255026971,\n",
              " 0.01774862202534644,\n",
              " 8.714047447242821,\n",
              " 2.094563824951179,\n",
              " 2.1548116922473226,\n",
              " 9.824211088259252,\n",
              " 8.724077654368019,\n",
              " 2.893051677469265,\n",
              " 9.614779889500834,\n",
              " 5.392234688708106,\n",
              " 6.778304772505923,\n",
              " 2.047795145337928,\n",
              " 9.40976001087999,\n",
              " 6.906419411069082,\n",
              " 9.665643123171954,\n",
              " 8.937416775764785,\n",
              " 2.9878889785386775,\n",
              " 3.6118993472238414,\n",
              " 1.659560571297456,\n",
              " 1.4570190954068252,\n",
              " 0.6513971337567626,\n",
              " 3.013591007694625,\n",
              " 6.031099974076543,\n",
              " 0.03383119374356758,\n",
              " 6.779342495476913,\n",
              " 3.3789686162786516,\n",
              " 3.0995793160312877,\n",
              " 8.185180746470708,\n",
              " 4.80745186630039,\n",
              " 3.1579310584644404,\n",
              " 4.812183862368639,\n",
              " 7.046691341409092,\n",
              " 0.5700092953578995,\n",
              " 9.750995631442352,\n",
              " 0.2286556325272071,\n",
              " 7.497950222912733,\n",
              " 8.448808893881296,\n",
              " 0.1806753537853012,\n",
              " 7.877383039804342,\n",
              " 3.6618447584186056,\n",
              " 5.785188290568746,\n",
              " 0.09078386819528439,\n",
              " 0.4672711869894153,\n",
              " 1.8091948795104784,\n",
              " 9.551798995911664,\n",
              " 1.9652167051300817,\n",
              " 7.557364124513177,\n",
              " 9.29655319597521,\n",
              " 9.420438294276995,\n",
              " 3.4438181305301194,\n",
              " 3.5479320505791225,\n",
              " 5.2470182069312,\n",
              " 7.756030146989953,\n",
              " 1.0805286906483291,\n",
              " 7.483980564846631,\n",
              " 7.972266775913328,\n",
              " 8.596943191875802,\n",
              " 0.3663157994282751,\n",
              " 9.458001850421837,\n",
              " 0.911798641717686,\n",
              " 3.407405355042222,\n",
              " 6.1082753809262424,\n",
              " 9.180871855333121,\n",
              " 3.399595266258446,\n",
              " 9.241976194277907,\n",
              " 5.451440370982389,\n",
              " 3.1245036934290695,\n",
              " 3.167999856633772,\n",
              " 1.7747777550498856,\n",
              " 0.7819623222057348,\n",
              " 1.4886804462324854,\n",
              " 6.891745873488752,\n",
              " 9.967268145367038,\n",
              " 1.6152946442461624,\n",
              " 0.4855216354845626]"
            ]
          },
          "metadata": {},
          "execution_count": 32
        }
      ],
      "source": [
        "PopData"
      ]
    },
    {
      "cell_type": "code",
      "execution_count": 33,
      "metadata": {
        "id": "FdDRLmXxv15n"
      },
      "outputs": [],
      "source": [
        "def CVCalc(Dat):\n",
        "    CVCalc = statistics.stdev(Dat)/statistics.mean(Dat)\n",
        "    return CVCalc"
      ]
    },
    {
      "cell_type": "code",
      "execution_count": 34,
      "metadata": {
        "colab": {
          "base_uri": "https://localhost:8080/"
        },
        "id": "21bG4oe-v15o",
        "outputId": "2a211042-0cec-4fdd-8260-abf70b863749"
      },
      "outputs": [
        {
          "output_type": "stream",
          "name": "stdout",
          "text": [
            "0.6569398125747403\n"
          ]
        }
      ],
      "source": [
        "CVPopData = CVCalc(PopData)\n",
        "print(CVPopData)"
      ]
    },
    {
      "cell_type": "code",
      "execution_count": 35,
      "metadata": {
        "id": "5sz33UZcv15o"
      },
      "outputs": [],
      "source": [
        "N = len(PopData)\n",
        "JackVal = list()\n",
        "PseudoVal = list()\n",
        "for i in range(N-1):\n",
        "    JackVal.append(0)\n",
        "for i in range(N):\n",
        "    PseudoVal.append(0)\n",
        "\n",
        "for i in range(N):\n",
        "    for j in range(N):\n",
        "        if(j < i):\n",
        "            JackVal[j] = PopData[j]\n",
        "        else:\n",
        "            if(j > i):\n",
        "                JackVal[j-1]= PopData[j]\n",
        "    PseudoVal[i] = N*CVCalc(PopData)-(N-1)*CVCalc(JackVal)"
      ]
    },
    {
      "cell_type": "code",
      "execution_count": null,
      "metadata": {
        "id": "5gZuemXnv15o"
      },
      "outputs": [],
      "source": [
        "plt.hist(PseudoVal)\n",
        "plt.show()"
      ]
    },
    {
      "cell_type": "code",
      "execution_count": 37,
      "metadata": {
        "colab": {
          "base_uri": "https://localhost:8080/"
        },
        "id": "iWjIDFZMv15p",
        "outputId": "81949669-6f08-4f9f-efaf-0d253c1b3836"
      },
      "outputs": [
        {
          "output_type": "stream",
          "name": "stdout",
          "text": [
            "0.6545985339842991\n"
          ]
        }
      ],
      "source": [
        "MeanPseudoVal=statistics.mean(PseudoVal)\n",
        "print(MeanPseudoVal)"
      ]
    },
    {
      "cell_type": "code",
      "execution_count": 38,
      "metadata": {
        "colab": {
          "base_uri": "https://localhost:8080/"
        },
        "id": "eKpLinJEv15p",
        "outputId": "7c2beaaa-1006-438d-b898-e3a5efee8397"
      },
      "outputs": [
        {
          "output_type": "stream",
          "name": "stdout",
          "text": [
            "0.2435929299444099\n"
          ]
        }
      ],
      "source": [
        "VariancePseudoVal=statistics.variance(PseudoVal)\n",
        "print(VariancePseudoVal)"
      ]
    },
    {
      "cell_type": "code",
      "execution_count": 39,
      "metadata": {
        "colab": {
          "base_uri": "https://localhost:8080/"
        },
        "id": "RQofv5ydv15p",
        "outputId": "a27c8797-c0b5-4734-c0d8-0a1e801f28d1"
      },
      "outputs": [
        {
          "output_type": "stream",
          "name": "stdout",
          "text": [
            "0.6545985339842991\n"
          ]
        }
      ],
      "source": [
        "MeanPseudoVal=statistics.mean(PseudoVal)\n",
        "print(MeanPseudoVal)"
      ]
    },
    {
      "cell_type": "markdown",
      "metadata": {
        "id": "dl8l0hiSv15q"
      },
      "source": [
        "## <font color='blue'> Bootstrap"
      ]
    },
    {
      "cell_type": "code",
      "execution_count": 40,
      "metadata": {
        "id": "rpkHZ8ABv15q"
      },
      "outputs": [],
      "source": [
        "import random\n",
        "import numpy as np\n",
        "import matplotlib.pyplot as plt"
      ]
    },
    {
      "cell_type": "code",
      "execution_count": 41,
      "metadata": {
        "id": "BVgFX1BSv15r"
      },
      "outputs": [],
      "source": [
        "PopData = list()\n",
        "\n",
        "random.seed(7)\n",
        "\n",
        "for i in range(1000):\n",
        "    DataElem = 50 * random.random()\n",
        "    PopData.append(DataElem)"
      ]
    },
    {
      "cell_type": "code",
      "execution_count": 42,
      "metadata": {
        "colab": {
          "base_uri": "https://localhost:8080/"
        },
        "id": "Ytgsj0AAv15r",
        "outputId": "ee274988-904e-4adb-9710-51c461522b79"
      },
      "outputs": [
        {
          "output_type": "execute_result",
          "data": {
            "text/plain": [
              "[16.19163824165812,\n",
              " 7.542458696225096,\n",
              " 32.546723651992686,\n",
              " 3.621814333377138,\n",
              " 26.79410021533446,\n",
              " 18.28444584562928,\n",
              " 2.8999462387353403,\n",
              " 25.371786659471013,\n",
              " 1.874782922099244,\n",
              " 21.682284183119293,\n",
              " 3.492771178730947,\n",
              " 4.535650667193253,\n",
              " 21.225959457125697,\n",
              " 41.342606233601906,\n",
              " 6.190098057482279,\n",
              " 11.161948230350728,\n",
              " 31.371661120279466,\n",
              " 47.38544712285028,\n",
              " 28.855147430874933,\n",
              " 19.83402373253901,\n",
              " 48.812755279646005,\n",
              " 2.329134030887814,\n",
              " 42.923422952433974,\n",
              " 14.480464316583813,\n",
              " 7.212754167871877,\n",
              " 5.889611903918418,\n",
              " 15.424091205096719,\n",
              " 40.80631795600157,\n",
              " 9.036318996196874,\n",
              " 29.08000818312331,\n",
              " 31.945673446309204,\n",
              " 18.61987713628656,\n",
              " 27.38722328547789,\n",
              " 3.1394487486661573,\n",
              " 2.980058498311633,\n",
              " 10.297935640966326,\n",
              " 34.019998659089296,\n",
              " 21.379615283470145,\n",
              " 15.707358518839577,\n",
              " 29.278093175381937,\n",
              " 22.65921881853877,\n",
              " 14.988349843184118,\n",
              " 39.71897407612456,\n",
              " 34.94972168647856,\n",
              " 12.204825536107645,\n",
              " 28.721185512933552,\n",
              " 26.25982519057257,\n",
              " 43.756874778671445,\n",
              " 36.472264471960884,\n",
              " 14.396888244509325,\n",
              " 49.00874237462911,\n",
              " 5.903288912748106,\n",
              " 20.90614108926136,\n",
              " 37.85704647826247,\n",
              " 7.5992267330252385,\n",
              " 24.44815502379028,\n",
              " 1.960362852371883,\n",
              " 33.41079282671976,\n",
              " 38.22854331064065,\n",
              " 28.651297013869197,\n",
              " 43.773890591544415,\n",
              " 15.687375642404838,\n",
              " 34.764768313682964,\n",
              " 29.718493855250923,\n",
              " 28.99476021412461,\n",
              " 22.810266565070652,\n",
              " 41.99838902562707,\n",
              " 47.23405475539687,\n",
              " 23.704916870982224,\n",
              " 33.20761027373372,\n",
              " 3.033471379860986,\n",
              " 35.074601065221195,\n",
              " 32.35644272638344,\n",
              " 49.654796973331706,\n",
              " 41.096239330485744,\n",
              " 14.229776604707462,\n",
              " 19.289572122335542,\n",
              " 33.43263579420941,\n",
              " 1.1281464027794286,\n",
              " 23.08476431498829,\n",
              " 8.402418945327227,\n",
              " 5.854789724086595,\n",
              " 2.9477209665655204,\n",
              " 38.41164942362604,\n",
              " 6.4670111009342115,\n",
              " 12.380741684845715,\n",
              " 19.547485156661352,\n",
              " 43.57109870631497,\n",
              " 4.029065060006931,\n",
              " 22.45937004746655,\n",
              " 27.47199545720187,\n",
              " 44.169191322075626,\n",
              " 40.96399189178707,\n",
              " 43.19922348492576,\n",
              " 13.921053225694857,\n",
              " 20.764825860584928,\n",
              " 17.93855826658124,\n",
              " 44.20964135991085,\n",
              " 47.88656019819956,\n",
              " 7.5460452895554475,\n",
              " 8.810886424518516,\n",
              " 11.597843340976787,\n",
              " 11.666804184043055,\n",
              " 24.24813651706783,\n",
              " 29.456175186612782,\n",
              " 13.137330964926896,\n",
              " 0.20468016925319632,\n",
              " 20.947325056266397,\n",
              " 18.46267864473627,\n",
              " 28.3170611853196,\n",
              " 47.65489627625477,\n",
              " 34.5246828567989,\n",
              " 25.77457165353892,\n",
              " 30.879637470456384,\n",
              " 33.81000412247507,\n",
              " 2.6996446611895095,\n",
              " 44.976650502897606,\n",
              " 38.99847453530364,\n",
              " 43.725659206723826,\n",
              " 39.8936560598283,\n",
              " 19.618945344563432,\n",
              " 19.94894161601365,\n",
              " 5.176854685516213,\n",
              " 31.714478284285452,\n",
              " 3.112391080934379,\n",
              " 3.367380792151242,\n",
              " 10.438159272308223,\n",
              " 8.11515938860487,\n",
              " 17.00268261161717,\n",
              " 2.628780194513347,\n",
              " 0.011664095067831504,\n",
              " 7.563246613971398,\n",
              " 5.073218401129825,\n",
              " 18.18049610172855,\n",
              " 1.2750443333072847,\n",
              " 43.71661886869098,\n",
              " 30.703449389423938,\n",
              " 7.427524266544571,\n",
              " 12.612887827853864,\n",
              " 17.369477302685077,\n",
              " 18.20817197641412,\n",
              " 6.142111538109746,\n",
              " 42.44684632423075,\n",
              " 49.655136085235696,\n",
              " 23.299472957996688,\n",
              " 24.19173282081347,\n",
              " 4.294233077808279,\n",
              " 5.109380837408422,\n",
              " 17.131791912150092,\n",
              " 13.237844585859005,\n",
              " 41.44276890607802,\n",
              " 8.071930526321575,\n",
              " 1.1547860522624076,\n",
              " 47.54927864373511,\n",
              " 26.41286975210624,\n",
              " 7.330126944954535,\n",
              " 27.158621294105718,\n",
              " 1.3521245711084262,\n",
              " 26.405472046915325,\n",
              " 48.925062135948636,\n",
              " 43.16625151448344,\n",
              " 34.80983929539009,\n",
              " 13.055759861468097,\n",
              " 18.334989588058942,\n",
              " 8.352101726716816,\n",
              " 38.59689542010156,\n",
              " 26.62961987464395,\n",
              " 38.95274456690886,\n",
              " 16.48324975238812,\n",
              " 11.152083655159256,\n",
              " 40.57556233867975,\n",
              " 49.246302529544536,\n",
              " 42.63143993733303,\n",
              " 40.30392923928338,\n",
              " 40.91664716626866,\n",
              " 36.993651018785705,\n",
              " 11.336974501579245,\n",
              " 25.881936212175276,\n",
              " 17.778127167747908,\n",
              " 1.4490075370682698,\n",
              " 1.3968537711032236,\n",
              " 13.97092695245149,\n",
              " 12.958718163387829,\n",
              " 34.626097085006165,\n",
              " 47.82575381706689,\n",
              " 22.36138388833617,\n",
              " 46.85106006381211,\n",
              " 49.40190291014301,\n",
              " 47.75003156606666,\n",
              " 18.231794268093303,\n",
              " 11.023116149811873,\n",
              " 11.342291336536398,\n",
              " 9.835308170965861,\n",
              " 10.21866816381115,\n",
              " 31.203319871890912,\n",
              " 45.015416894205714,\n",
              " 42.02177636396449,\n",
              " 23.97367131307691,\n",
              " 32.64890214205045,\n",
              " 39.98218724248301,\n",
              " 4.238924322519005,\n",
              " 33.029282510244705,\n",
              " 45.488856877586144,\n",
              " 39.1151442049045,\n",
              " 37.50702299152292,\n",
              " 23.90163722970001,\n",
              " 8.926085916878678,\n",
              " 39.45677155101382,\n",
              " 16.625859993230495,\n",
              " 40.04117844483455,\n",
              " 48.582864449107916,\n",
              " 19.791924753472408,\n",
              " 20.069340893385075,\n",
              " 47.33985032324465,\n",
              " 36.23993328171076,\n",
              " 8.500182998594774,\n",
              " 6.3519183648932165,\n",
              " 7.557535019074491,\n",
              " 45.242604786661964,\n",
              " 40.32509910160981,\n",
              " 7.308715437193708,\n",
              " 41.325523926269355,\n",
              " 49.015297172351524,\n",
              " 32.863414636801,\n",
              " 17.520375607875145,\n",
              " 27.433002199338958,\n",
              " 6.549192600472519,\n",
              " 0.7121469078052778,\n",
              " 48.54450886188822,\n",
              " 32.48373348369153,\n",
              " 26.329052354952776,\n",
              " 46.68124025287133,\n",
              " 21.69047183787428,\n",
              " 43.58714639947021,\n",
              " 41.30776259076106,\n",
              " 10.55211686640744,\n",
              " 12.59174056827269,\n",
              " 14.648332633510947,\n",
              " 12.026969627916728,\n",
              " 29.321858408298084,\n",
              " 12.968239763510509,\n",
              " 20.95062763772718,\n",
              " 6.553683825174167,\n",
              " 45.500852815777826,\n",
              " 17.689201197662946,\n",
              " 22.90804932358668,\n",
              " 29.1674386020925,\n",
              " 45.21483872710199,\n",
              " 21.031413535453257,\n",
              " 45.886054217133214,\n",
              " 25.082447056011574,\n",
              " 26.59124812179669,\n",
              " 26.175329279358316,\n",
              " 0.9352433952710015,\n",
              " 22.006245619247167,\n",
              " 9.155394363609936,\n",
              " 0.19662409128209934,\n",
              " 39.958522524611084,\n",
              " 8.617335610672445,\n",
              " 23.674646623097818,\n",
              " 36.259663522368896,\n",
              " 27.823781245110663,\n",
              " 16.299107552443203,\n",
              " 25.917435635151843,\n",
              " 27.772093744012345,\n",
              " 39.21362376827378,\n",
              " 5.305470855246414,\n",
              " 28.014806679197612,\n",
              " 12.4247160521545,\n",
              " 13.845853523239077,\n",
              " 38.613054937774415,\n",
              " 25.385699589616028,\n",
              " 28.08646933282381,\n",
              " 37.99965712950083,\n",
              " 45.624401816490604,\n",
              " 22.16241967887194,\n",
              " 30.62639421722302,\n",
              " 25.277656542561083,\n",
              " 25.60807362176597,\n",
              " 34.63655012741146,\n",
              " 22.617289613245482,\n",
              " 26.664271878958544,\n",
              " 23.90181590160424,\n",
              " 47.07505637692503,\n",
              " 34.96089410901429,\n",
              " 43.82677408902967,\n",
              " 47.10902941517878,\n",
              " 12.979614705884535,\n",
              " 27.975690324885743,\n",
              " 47.16335170067419,\n",
              " 41.99998916966029,\n",
              " 6.856721794842574,\n",
              " 6.081097719209033,\n",
              " 22.10590441375218,\n",
              " 3.6273049828244144,\n",
              " 12.031937922663493,\n",
              " 3.6560383486337167,\n",
              " 33.473607265494785,\n",
              " 39.19680085865776,\n",
              " 44.85132164393834,\n",
              " 7.722331188434605,\n",
              " 35.805994139409805,\n",
              " 33.01282575956854,\n",
              " 7.148949896211859,\n",
              " 44.14164168285377,\n",
              " 48.37723913331919,\n",
              " 10.979391540095984,\n",
              " 47.62520644594932,\n",
              " 19.912843735863596,\n",
              " 24.363038749544007,\n",
              " 49.49357273721432,\n",
              " 41.62223347414738,\n",
              " 8.073302994043956,\n",
              " 21.576090899881944,\n",
              " 25.78025289021795,\n",
              " 16.955807216940993,\n",
              " 9.787233306696558,\n",
              " 15.9262784168847,\n",
              " 36.10754175705929,\n",
              " 0.9741464026196578,\n",
              " 27.702512390416402,\n",
              " 22.022905090135104,\n",
              " 0.9040990413518801,\n",
              " 16.574894457099532,\n",
              " 31.1963536945932,\n",
              " 25.61311422317278,\n",
              " 3.214539629537594,\n",
              " 49.25416220670497,\n",
              " 39.41815280487904,\n",
              " 48.58479793235371,\n",
              " 5.238979713641578,\n",
              " 13.278213617175988,\n",
              " 1.9794094957033825,\n",
              " 38.94987150339461,\n",
              " 13.522304876065455,\n",
              " 6.477777965283865,\n",
              " 21.112709063883056,\n",
              " 45.57069080918045,\n",
              " 40.948948989064085,\n",
              " 12.930450739692084,\n",
              " 7.468397370203911,\n",
              " 45.95857542558856,\n",
              " 28.52974626966269,\n",
              " 35.02087232733089,\n",
              " 4.473110392340384,\n",
              " 2.8763256220473155,\n",
              " 34.410278567427405,\n",
              " 21.265852039786132,\n",
              " 3.6207047361595244,\n",
              " 46.91748545200814,\n",
              " 31.721975314827976,\n",
              " 40.08142957856949,\n",
              " 4.187126311725903,\n",
              " 42.811431818607446,\n",
              " 3.3311267437230727,\n",
              " 43.13874845269231,\n",
              " 22.688676048646244,\n",
              " 16.95758886423181,\n",
              " 27.65320592290175,\n",
              " 46.333464203561356,\n",
              " 13.392987333872707,\n",
              " 6.461239994766443,\n",
              " 26.345751326358585,\n",
              " 11.921808473067696,\n",
              " 5.472573253964192,\n",
              " 8.072454579880567,\n",
              " 2.51898586047663,\n",
              " 10.088412438425005,\n",
              " 15.599620203923841,\n",
              " 15.250269893961338,\n",
              " 37.974912749928066,\n",
              " 14.498041736217909,\n",
              " 25.00442999309197,\n",
              " 8.894994210646434,\n",
              " 17.350051106392943,\n",
              " 0.9081553647290852,\n",
              " 12.522437809761373,\n",
              " 0.767305872750984,\n",
              " 36.65401917161568,\n",
              " 27.55245640056268,\n",
              " 9.472824824688919,\n",
              " 23.738031925886688,\n",
              " 46.73214198911769,\n",
              " 5.314067251354571,\n",
              " 40.9460070170857,\n",
              " 21.608879289220805,\n",
              " 24.750078672880772,\n",
              " 41.730696666511136,\n",
              " 19.654303778079296,\n",
              " 25.334297607758284,\n",
              " 34.387086784534574,\n",
              " 49.12202702073986,\n",
              " 17.135231270873724,\n",
              " 41.61432716322248,\n",
              " 35.336270082311394,\n",
              " 31.798847444250733,\n",
              " 20.234885435342065,\n",
              " 17.377609007761603,\n",
              " 2.7194268394218124,\n",
              " 6.490929057544142,\n",
              " 3.5361407792003083,\n",
              " 37.044459909146376,\n",
              " 12.779693838484846,\n",
              " 8.162326013818788,\n",
              " 4.224243635396535,\n",
              " 42.06344909253782,\n",
              " 43.52689106238741,\n",
              " 33.52716489543393,\n",
              " 14.096664115331475,\n",
              " 12.110646699624327,\n",
              " 14.652924629016773,\n",
              " 22.97264716973604,\n",
              " 7.876646991460285,\n",
              " 22.291230411687014,\n",
              " 13.162153349869454,\n",
              " 48.08932666813067,\n",
              " 48.631149897318814,\n",
              " 27.353668705945424,\n",
              " 12.222324697094678,\n",
              " 48.28333850293925,\n",
              " 15.477395883897637,\n",
              " 17.829195850699353,\n",
              " 0.05344574724613915,\n",
              " 19.081330330629108,\n",
              " 23.7321813698593,\n",
              " 25.13820031881998,\n",
              " 10.049002710051608,\n",
              " 25.236781975715633,\n",
              " 0.2475265751971656,\n",
              " 13.208434290082854,\n",
              " 4.487669894048995,\n",
              " 19.97555851444629,\n",
              " 2.083347884557635,\n",
              " 1.1247073485128767,\n",
              " 15.212228011216922,\n",
              " 11.640478329540304,\n",
              " 29.27916420908167,\n",
              " 26.459477414655495,\n",
              " 37.527031509299626,\n",
              " 32.87718366563364,\n",
              " 35.799672001615576,\n",
              " 43.9545346783695,\n",
              " 19.475823553022497,\n",
              " 16.306737706317477,\n",
              " 49.23645425371481,\n",
              " 7.47315745211265,\n",
              " 36.20778866809128,\n",
              " 32.160972485226466,\n",
              " 2.1894033345792927,\n",
              " 41.764477161694685,\n",
              " 44.597117793925555,\n",
              " 31.366606216596328,\n",
              " 36.69260617384809,\n",
              " 40.6109457856197,\n",
              " 6.965380500960217,\n",
              " 26.187864226425866,\n",
              " 25.218552562773038,\n",
              " 41.74687967185132,\n",
              " 40.23388028743854,\n",
              " 41.32045607509901,\n",
              " 29.203075840311936,\n",
              " 44.64148682027539,\n",
              " 34.14476847502503,\n",
              " 34.66630676496394,\n",
              " 11.497036026824897,\n",
              " 1.5580263144754247,\n",
              " 6.654659896016074,\n",
              " 18.035373821674312,\n",
              " 5.245823553434853,\n",
              " 41.79105998999855,\n",
              " 27.926362324796735,\n",
              " 31.388355426058425,\n",
              " 31.311322946639297,\n",
              " 34.033208804041024,\n",
              " 24.464715742987725,\n",
              " 0.165716356392398,\n",
              " 39.88487760354263,\n",
              " 37.41326851118529,\n",
              " 25.14855261812269,\n",
              " 26.759990711488545,\n",
              " 32.964974465217495,\n",
              " 3.302517811107597,\n",
              " 36.839416427112525,\n",
              " 12.609676573134504,\n",
              " 3.7224999987086727,\n",
              " 13.277911109769946,\n",
              " 36.466751901969836,\n",
              " 10.260876354104326,\n",
              " 36.991429571037095,\n",
              " 48.78675470513853,\n",
              " 24.697438942466395,\n",
              " 19.12802386162425,\n",
              " 23.9505082035313,\n",
              " 34.18482813511757,\n",
              " 38.34850529087613,\n",
              " 30.84870078891249,\n",
              " 32.13814876909931,\n",
              " 3.8735909758900346,\n",
              " 7.371253643845371,\n",
              " 12.697014082794766,\n",
              " 37.16086286786452,\n",
              " 15.220856897961626,\n",
              " 28.388084893465415,\n",
              " 0.6234606662469722,\n",
              " 3.033050703182089,\n",
              " 13.438638289462402,\n",
              " 33.6000789327618,\n",
              " 34.6092586285224,\n",
              " 33.785382840638725,\n",
              " 14.54282392146845,\n",
              " 25.826784702220383,\n",
              " 23.23314266871572,\n",
              " 23.316957714844406,\n",
              " 5.925143135078398,\n",
              " 44.68314630876351,\n",
              " 9.96250149297515,\n",
              " 48.90628683785135,\n",
              " 46.81271704768582,\n",
              " 0.8752227908331411,\n",
              " 22.948541148179856,\n",
              " 40.99488463499341,\n",
              " 48.40541258253498,\n",
              " 22.47254848255476,\n",
              " 13.432862008679042,\n",
              " 10.491860999373632,\n",
              " 47.279363844743386,\n",
              " 10.535439876695296,\n",
              " 29.073618386053703,\n",
              " 7.0870338929765575,\n",
              " 26.20328562774098,\n",
              " 47.63701683266221,\n",
              " 6.630253644051304,\n",
              " 41.0108505307392,\n",
              " 25.437217682439044,\n",
              " 44.34310798074214,\n",
              " 35.16685193970372,\n",
              " 11.569180152523495,\n",
              " 44.88528478001998,\n",
              " 24.307032821357446,\n",
              " 1.2417201545332601,\n",
              " 0.17952358348651276,\n",
              " 24.584805474276884,\n",
              " 22.538015024892733,\n",
              " 15.09755206375672,\n",
              " 7.035361012883929,\n",
              " 17.19800732139727,\n",
              " 15.803902268748487,\n",
              " 42.01155168239934,\n",
              " 0.0870690958751641,\n",
              " 37.536702058565844,\n",
              " 41.95553973252309,\n",
              " 6.0020673796091275,\n",
              " 46.31994299431933,\n",
              " 35.651178289846186,\n",
              " 45.078328154946796,\n",
              " 14.491647948776265,\n",
              " 18.611099967724588,\n",
              " 19.644969102055228,\n",
              " 49.939625289280684,\n",
              " 29.458832769245163,\n",
              " 18.03546619617026,\n",
              " 21.4026375694783,\n",
              " 13.757762631123981,\n",
              " 2.4134048374882697,\n",
              " 5.085492898381316,\n",
              " 41.73379974885962,\n",
              " 14.281159503371821,\n",
              " 46.77949441556423,\n",
              " 12.466235820590926,\n",
              " 13.28640074887899,\n",
              " 25.548149390370163,\n",
              " 9.492452358150343,\n",
              " 18.66746425075183,\n",
              " 47.80826323768036,\n",
              " 44.21332777627234,\n",
              " 40.59811337353862,\n",
              " 31.544790193454048,\n",
              " 45.67119437296925,\n",
              " 47.03496491691208,\n",
              " 27.461407409398188,\n",
              " 35.9786290975574,\n",
              " 2.473801722178365,\n",
              " 36.617623422624916,\n",
              " 22.543021148038676,\n",
              " 37.63340046203603,\n",
              " 32.224535520925684,\n",
              " 14.310416015079275,\n",
              " 2.448845249379139,\n",
              " 46.3388523273573,\n",
              " 6.365566019252983,\n",
              " 23.609204372341424,\n",
              " 17.183142632896462,\n",
              " 14.888593277239343,\n",
              " 36.95162524981248,\n",
              " 48.81480882049271,\n",
              " 13.008452730703823,\n",
              " 32.79976630161144,\n",
              " 15.0418145519428,\n",
              " 27.86608512285202,\n",
              " 19.718388885163705,\n",
              " 8.366623387934652,\n",
              " 8.082848070252908,\n",
              " 10.393626056836835,\n",
              " 45.29799551212286,\n",
              " 24.85378926634287,\n",
              " 11.001262610027961,\n",
              " 45.312969510568024,\n",
              " 49.823755681234545,\n",
              " 22.49802217909061,\n",
              " 6.979803199986106,\n",
              " 9.62035478803725,\n",
              " 4.535725405326146,\n",
              " 17.097761689079583,\n",
              " 4.554716989132662,\n",
              " 11.956329035872715,\n",
              " 12.91787840774597,\n",
              " 28.480887115799575,\n",
              " 44.36257296058599,\n",
              " 37.48288038023394,\n",
              " 20.639082932039305,\n",
              " 20.694178620666463,\n",
              " 26.208407137544796,\n",
              " 18.84329068297142,\n",
              " 16.910155025165903,\n",
              " 3.1029758968002694,\n",
              " 13.875817348912639,\n",
              " 48.38426312809632,\n",
              " 6.293690087926823,\n",
              " 25.169787380555903,\n",
              " 31.481345292296965,\n",
              " 43.14306745254706,\n",
              " 10.798157040997653,\n",
              " 13.551044053133626,\n",
              " 12.422682488173525,\n",
              " 19.987856837284458,\n",
              " 22.29291961783047,\n",
              " 47.69717876315713,\n",
              " 42.43418381152263,\n",
              " 43.64454931320264,\n",
              " 1.0905255106266665,\n",
              " 1.6121746693551042,\n",
              " 35.4755892469327,\n",
              " 44.78482596734511,\n",
              " 23.66341388534056,\n",
              " 29.358824524963033,\n",
              " 0.008934390968784456,\n",
              " 19.57605478548948,\n",
              " 46.34136368638303,\n",
              " 41.279460313864575,\n",
              " 42.77313369071163,\n",
              " 48.61205609476209,\n",
              " 12.423264154459229,\n",
              " 5.4522999464722,\n",
              " 7.718919274236347,\n",
              " 26.1182803555904,\n",
              " 34.10375308576614,\n",
              " 47.07452797345644,\n",
              " 36.08676444776494,\n",
              " 32.36740598325003,\n",
              " 38.24002738851565,\n",
              " 22.86625209637112,\n",
              " 27.575045740925376,\n",
              " 1.9773129378877707,\n",
              " 39.11493090005657,\n",
              " 11.62884144834514,\n",
              " 45.996005474623935,\n",
              " 32.275288818412136,\n",
              " 15.189113081408623,\n",
              " 6.39834241065112,\n",
              " 12.589697364066964,\n",
              " 31.814554869171424,\n",
              " 34.92909586572798,\n",
              " 5.606634206863037,\n",
              " 3.5175954179276827,\n",
              " 26.221834102101795,\n",
              " 29.14454869616842,\n",
              " 19.40409737113188,\n",
              " 11.179151680501992,\n",
              " 30.053044856023796,\n",
              " 0.5230819946066723,\n",
              " 15.076065062125787,\n",
              " 23.03453135438399,\n",
              " 47.94699859483429,\n",
              " 32.228781968135834,\n",
              " 44.18870145170301,\n",
              " 23.76521100337718,\n",
              " 11.738404835388893,\n",
              " 12.35291921693118,\n",
              " 48.03071149133524,\n",
              " 35.23268314065411,\n",
              " 15.36989139590737,\n",
              " 1.08936920542837,\n",
              " 24.915512235778763,\n",
              " 33.723163100767266,\n",
              " 21.000793606449687,\n",
              " 12.862806107044406,\n",
              " 33.36775244188398,\n",
              " 46.25804140054361,\n",
              " 11.33930366223434,\n",
              " 1.7048711686666218,\n",
              " 16.902578517173318,\n",
              " 21.02784229901429,\n",
              " 34.12833414836161,\n",
              " 9.903981911671705,\n",
              " 39.85321085606188,\n",
              " 36.956461088787655,\n",
              " 25.243919367876817,\n",
              " 10.260929351931663,\n",
              " 48.49293611959137,\n",
              " 15.585787134564333,\n",
              " 41.00022472215193,\n",
              " 11.540440643248735,\n",
              " 11.07214065828247,\n",
              " 38.02353698362927,\n",
              " 14.74664252586963,\n",
              " 47.59634421154745,\n",
              " 24.788236472792292,\n",
              " 9.365660658656127,\n",
              " 11.166206927989696,\n",
              " 20.851454105375705,\n",
              " 33.264712637818256,\n",
              " 47.43806518420657,\n",
              " 7.319152698637371,\n",
              " 19.67299880622267,\n",
              " 10.647453749041524,\n",
              " 48.70598524664608,\n",
              " 7.095553880700817,\n",
              " 2.592027079261311,\n",
              " 3.0067627072724754,\n",
              " 19.666084814683334,\n",
              " 44.90837034286363,\n",
              " 44.17918187163769,\n",
              " 36.63618829593269,\n",
              " 49.87649026489302,\n",
              " 46.5797749033696,\n",
              " 16.46213799367976,\n",
              " 9.275609497900394,\n",
              " 46.79407757699399,\n",
              " 37.31542209819549,\n",
              " 1.594684389169193,\n",
              " 33.2214931865697,\n",
              " 18.930970817479114,\n",
              " 18.694180989631594,\n",
              " 16.584874481869917,\n",
              " 8.463047112881256,\n",
              " 0.14353620940521505,\n",
              " 13.990321412966761,\n",
              " 17.573343001374287,\n",
              " 47.775741623778885,\n",
              " 6.185414106074311,\n",
              " 48.21356078937835,\n",
              " 10.370121665347249,\n",
              " 17.831461045418706,\n",
              " 41.0786808687073,\n",
              " 41.100399123108474,\n",
              " 21.62246670117984,\n",
              " 2.4628667925508605,\n",
              " 23.67320254285478,\n",
              " 18.635719471249367,\n",
              " 45.97532095251511,\n",
              " 9.651309372227335,\n",
              " 18.212443119779152,\n",
              " 44.84966824745176,\n",
              " 1.5141027538709773,\n",
              " 20.54009148777017,\n",
              " 40.59122637860786,\n",
              " 38.333400117148685,\n",
              " 2.0324741957961248,\n",
              " 1.7427192866990737,\n",
              " 3.12899716322797,\n",
              " 46.003836043925546,\n",
              " 12.850797621511461,\n",
              " 37.364340224434336,\n",
              " 44.92758944839846,\n",
              " 16.95347665361102,\n",
              " 13.615733137343417,\n",
              " 47.88448026543946,\n",
              " 30.84892408683358,\n",
              " 13.108623678400322,\n",
              " 35.83178732155909,\n",
              " 15.82418155827674,\n",
              " 13.781516364740531,\n",
              " 0.18858079670818761,\n",
              " 37.782618625301176,\n",
              " 45.822980182490625,\n",
              " 31.699002141687167,\n",
              " 47.16250712623153,\n",
              " 1.2128352470764214,\n",
              " 11.693313012742014,\n",
              " 23.759452892680162,\n",
              " 47.83888253038522,\n",
              " 47.695529005064316,\n",
              " 19.32573943950193,\n",
              " 12.552341041544063,\n",
              " 21.49690419986853,\n",
              " 24.673692186440256,\n",
              " 46.4049709947931,\n",
              " 9.146961573029,\n",
              " 40.12841616982826,\n",
              " 36.92440066610082,\n",
              " 41.13776262555641,\n",
              " 38.64046899650813,\n",
              " 30.362711562269368,\n",
              " 16.389990546272088,\n",
              " 15.977439083449985,\n",
              " 18.09292204075792,\n",
              " 39.11243103285022,\n",
              " 3.9507435679006497,\n",
              " 9.865589585783107,\n",
              " 37.644283533072986,\n",
              " 12.365375611095414,\n",
              " 3.236651290038972,\n",
              " 1.693185970816724,\n",
              " 27.629732170930733,\n",
              " 16.287917703648052,\n",
              " 49.01278854405666,\n",
              " 44.17373132155143,\n",
              " 49.3911914796252,\n",
              " 13.244565808997145,\n",
              " 4.2041298778135445,\n",
              " 4.8211289275662095,\n",
              " 24.923763419848726,\n",
              " 35.48855855022246,\n",
              " 22.34815514579112,\n",
              " 11.709814940739854,\n",
              " 20.84203156118235,\n",
              " 31.0153822940821,\n",
              " 33.705430937906094,\n",
              " 37.398852236034195,\n",
              " 42.349353720945764,\n",
              " 33.22126111372062,\n",
              " 6.058236874547074,\n",
              " 42.043558990181765,\n",
              " 14.689107343329827,\n",
              " 28.344210336977945,\n",
              " 18.648551871648618,\n",
              " 36.903371386354806,\n",
              " 9.959504544510601,\n",
              " 12.37145631974057,\n",
              " 12.267014844530822,\n",
              " 7.666109979657115,\n",
              " 44.208390976327735,\n",
              " 28.91403778949757,\n",
              " 16.31689595610056,\n",
              " 19.803479780127752,\n",
              " 49.622436331938665,\n",
              " 25.36622566219745,\n",
              " 11.56904721619213,\n",
              " 40.422144569658656,\n",
              " 32.666327604620044,\n",
              " 49.547782554113546,\n",
              " 5.11662103403065,\n",
              " 23.73813796148636,\n",
              " 40.9551353123462,\n",
              " 42.02781820606334,\n",
              " 45.71877769152682,\n",
              " 2.0180932718821545,\n",
              " 14.683873293136312,\n",
              " 5.960831437405628,\n",
              " 9.478659033959097,\n",
              " 48.64825897959062,\n",
              " 29.159688276857732,\n",
              " 46.50868739005796,\n",
              " 18.611848172794655,\n",
              " 43.30636642044745,\n",
              " 22.455692888439515,\n",
              " 12.997411107643769,\n",
              " 38.88881380288139,\n",
              " 47.28510417280328,\n",
              " 5.289003117925406,\n",
              " 29.80735328410048,\n",
              " 30.99739899847642,\n",
              " 10.882271095162071,\n",
              " 18.435427673167197,\n",
              " 7.068474234702632,\n",
              " 10.198821872425734,\n",
              " 12.74568365448564,\n",
              " 29.97116846301721,\n",
              " 32.58214105440496,\n",
              " 10.172089492806686,\n",
              " 0.5689918320004261,\n",
              " 16.362461600078227,\n",
              " 33.91598700426863,\n",
              " 9.257254980882179,\n",
              " 15.6097866885121,\n",
              " 10.170388605991965,\n",
              " 39.76405840204106,\n",
              " 27.402241708154612,\n",
              " 3.1635539264120327,\n",
              " 5.069388373137961,\n",
              " 19.764835634837457,\n",
              " 27.506880519744815,\n",
              " 31.959097286312716,\n",
              " 4.557629917956274,\n",
              " 8.184465914134725,\n",
              " 34.77029437987762,\n",
              " 20.48944606938911,\n",
              " 14.165059725869794,\n",
              " 15.379788137169692,\n",
              " 47.65944184786107,\n",
              " 15.61809433450459,\n",
              " 28.326003210132892,\n",
              " 17.85908580350877,\n",
              " 20.82226910375549,\n",
              " 43.21231870601424,\n",
              " 49.831017778150745,\n",
              " 18.189068751215267,\n",
              " 9.860079508547154,\n",
              " 36.40158489531779,\n",
              " 10.183358543361503,\n",
              " 0.2938298263267525,\n",
              " 45.08152907958882,\n",
              " 21.18774023411396,\n",
              " 41.018429059717064,\n",
              " 20.310884184314183,\n",
              " 44.14189732250836,\n",
              " 23.045311783646973,\n",
              " 8.127228964110872,\n",
              " 0.7417187287268756,\n",
              " 27.577392810023127,\n",
              " 32.03333460035482,\n",
              " 45.48972561833231,\n",
              " 4.451555599594304,\n",
              " 31.109729754637016,\n",
              " 18.54218123005663,\n",
              " 25.223153148474413,\n",
              " 7.294341306367863,\n",
              " 14.164750338276743,\n",
              " 26.05794376573909,\n",
              " 46.27498949583499,\n",
              " 5.4396422146762715,\n",
              " 24.52548248825811,\n",
              " 40.2406807214561,\n",
              " 48.343803660835974,\n",
              " 9.867085256284208,\n",
              " 6.332517727200793,\n",
              " 47.15378546845068,\n",
              " 48.77732914417931,\n",
              " 24.13682427798434,\n",
              " 2.6687274156677376,\n",
              " 46.30839066072096,\n",
              " 19.394759120901828,\n",
              " 45.211042356606676,\n",
              " 31.017148378572074,\n",
              " 41.227787692523485,\n",
              " 8.013807475687717,\n",
              " 39.29127859197093,\n",
              " 11.103754349445211,\n",
              " 20.224227612737227,\n",
              " 42.31756895635759,\n",
              " 41.45938510930359,\n",
              " 9.148277180428533,\n",
              " 10.906843856615039,\n",
              " 19.98727915381977,\n",
              " 25.894625915765353,\n",
              " 19.17881867260026,\n",
              " 6.1528351714712155,\n",
              " 12.352944899608303,\n",
              " 36.24413453625505,\n",
              " 44.86475109778184,\n",
              " 2.0549516692245415,\n",
              " 28.117163420649238,\n",
              " 37.87306274185085,\n",
              " 1.9064350679130926,\n",
              " 41.910212980286325,\n",
              " 5.886550765423665,\n",
              " 29.975988513131995,\n",
              " 27.502591851729758,\n",
              " 31.35212092775336,\n",
              " 15.31070718505526,\n",
              " 21.003593246717607,\n",
              " 29.131233039967285,\n",
              " 21.2869921286449,\n",
              " 32.942135396394875,\n",
              " 22.339469754538833,\n",
              " 21.917629681067137,\n",
              " 1.1687640113786202,\n",
              " 30.94459399064541,\n",
              " 24.475079948184312,\n",
              " 11.762546169317833,\n",
              " 38.17825973725887,\n",
              " 38.99874456933522,\n",
              " 22.914452044868895,\n",
              " 8.978451717842129,\n",
              " 23.660942316182833,\n",
              " 5.353803585142142,\n",
              " 6.422793998783477,\n",
              " 21.529950337608273,\n",
              " 4.58565719510689,\n",
              " 22.098356673248876,\n",
              " 25.508062413743055,\n",
              " 2.0383395406051052,\n",
              " 31.82185110832414,\n",
              " 4.112051398354017,\n",
              " 36.67401124303261,\n",
              " 38.881804317382525,\n",
              " 25.574086636292915,\n",
              " 2.7132465511779778,\n",
              " 25.196203177745446,\n",
              " 18.893131484369057]"
            ]
          },
          "metadata": {},
          "execution_count": 42
        }
      ],
      "source": [
        "PopData"
      ]
    },
    {
      "cell_type": "code",
      "execution_count": 43,
      "metadata": {
        "id": "5DFS4XSuv15r"
      },
      "outputs": [],
      "source": [
        "PopSample = random.choices(PopData, k=100)"
      ]
    },
    {
      "cell_type": "code",
      "execution_count": 45,
      "metadata": {
        "colab": {
          "base_uri": "https://localhost:8080/",
          "height": 430
        },
        "id": "bFDuR3miv15r",
        "outputId": "ef6bbe33-dfc7-4209-abd9-2d0c38cac454"
      },
      "outputs": [
        {
          "output_type": "display_data",
          "data": {
            "text/plain": [
              "<Figure size 640x480 with 1 Axes>"
            ],
            "image/png": "[encoded data removed]"
          },
          "metadata": {}
        }
      ],
      "source": [
        "PopSampleMean = list()\n",
        "for i in range(10000):\n",
        "    SampleI = random.choices(PopData, k=100)\n",
        "    PopSampleMean.append(np.mean(SampleI))\n",
        "\n",
        "plt.hist(PopSampleMean)\n",
        "plt.show()"
      ]
    },
    {
      "cell_type": "code",
      "execution_count": 46,
      "metadata": {
        "colab": {
          "base_uri": "https://localhost:8080/"
        },
        "id": "03GYn5xVv15r",
        "outputId": "c65a793f-8a19-45eb-8708-386b6bf407bd"
      },
      "outputs": [
        {
          "output_type": "stream",
          "name": "stdout",
          "text": [
            "The mean of the Bootstrap estimator is  24.1079122303494\n"
          ]
        }
      ],
      "source": [
        "MeanPopSampleMean = np.mean(PopSampleMean)\n",
        "print(\"The mean of the Bootstrap estimator is \",MeanPopSampleMean)"
      ]
    },
    {
      "cell_type": "code",
      "execution_count": 47,
      "metadata": {
        "colab": {
          "base_uri": "https://localhost:8080/"
        },
        "id": "cgPc62E6v15r",
        "outputId": "002e8d39-802e-4521-88bc-9d5873bd65ea"
      },
      "outputs": [
        {
          "output_type": "stream",
          "name": "stdout",
          "text": [
            "The mean of the population is  24.087053989747968\n"
          ]
        }
      ],
      "source": [
        "MeanPopData = np.mean(PopData)\n",
        "print(\"The mean of the population is \",MeanPopData)"
      ]
    },
    {
      "cell_type": "code",
      "execution_count": 48,
      "metadata": {
        "colab": {
          "base_uri": "https://localhost:8080/"
        },
        "id": "QDtfLNTov15s",
        "outputId": "81bf7a7b-4d67-4293-8ee3-0e7add776bb2"
      },
      "outputs": [
        {
          "output_type": "stream",
          "name": "stdout",
          "text": [
            "The mean of the simple random sample is  23.140472976536497\n"
          ]
        }
      ],
      "source": [
        "MeanPopSample = np.mean(PopSample)\n",
        "print(\"The mean of the simple random sample is \",MeanPopSample)"
      ]
    }
  ],
  "metadata": {
    "kernelspec": {
      "display_name": "Python 3",
      "language": "python",
      "name": "python3"
    },
    "language_info": {
      "codemirror_mode": {
        "name": "ipython",
        "version": 3
      },
      "file_extension": ".py",
      "mimetype": "text/x-python",
      "name": "python",
      "nbconvert_exporter": "python",
      "pygments_lexer": "ipython3",
      "version": "3.7.3"
    },
    "colab": {
      "provenance": []
    }
  },
  "nbformat": 4,
  "nbformat_minor": 0
}