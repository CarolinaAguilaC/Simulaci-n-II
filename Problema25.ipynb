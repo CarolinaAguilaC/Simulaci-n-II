{
  "nbformat": 4,
  "nbformat_minor": 0,
  "metadata": {
    "colab": {
      "provenance": [],
      "authorship_tag": "ABX9TyP1fQWrf0X5Ji28ofqibYrQ",
      "include_colab_link": true
    },
    "kernelspec": {
      "name": "python3",
      "display_name": "Python 3"
    },
    "language_info": {
      "name": "python"
    }
  },
  "cells": [
    {
      "cell_type": "markdown",
      "metadata": {
        "id": "view-in-github",
        "colab_type": "text"
      },
      "source": [
        "<a href=\"https://colab.research.google.com/github/CarolinaAguilaC/Simulaci-n-II/blob/main/Problema25.ipynb\" target=\"_parent\"><img src=\"https://colab.research.google.com/assets/colab-badge.svg\" alt=\"Open In Colab\"/></a>"
      ]
    },
    {
      "cell_type": "markdown",
      "source": [
        "# **PROBLEMA** **25**"
      ],
      "metadata": {
        "id": "8266q0_jIDgs"
      }
    },
    {
      "cell_type": "markdown",
      "source": [
        "Un quiosquero vende periódicos a 1.10 euros cada uno. Cada periódico le cuesta al quiosquero 0.90 euros. Las ventas de periódicos del quiosquero a partir de su expe riencia se refleja en la tabla siguiente. \n",
        "\n",
        "|Periódicos|30|40|50|60|70|  \n",
        "|----------|--|--|--|--|--|\n",
        "|f(x)|20%|25%|25%|20%|10%|\n",
        "\n",
        "La tabla recoge por ejemplo que el 20 % del tiempo las ventas han sido de 30 periódicos. Teniendo en cuenta el coste de 0,20 euros por venta perdida y el coste de 0,10 euros por el reciclaje de cada periódico no vendido, determine el beneficio promedio diario si pide 50 periódicos cada día."
      ],
      "metadata": {
        "id": "Dkdv9sG5dP8n"
      }
    },
    {
      "cell_type": "markdown",
      "source": [
        "###**Solución analítica**"
      ],
      "metadata": {
        "id": "zuh5qAJlIC56"
      }
    },
    {
      "cell_type": "markdown",
      "source": [
        "### **1. Identifique las variables**"
      ],
      "metadata": {
        "id": "frtTbuiTPqha"
      }
    },
    {
      "cell_type": "markdown",
      "source": [
        "Ventas de los periódicos"
      ],
      "metadata": {
        "id": "tI68Fgn7p5KT"
      }
    },
    {
      "cell_type": "markdown",
      "source": [
        "### **2. Determine la distribución de probabilidad**"
      ],
      "metadata": {
        "id": "VxR3F4hxQk7M"
      }
    },
    {
      "cell_type": "markdown",
      "source": [
        "|Periódicos|30|40|50|60|70|  \n",
        "|----------|--|--|--|--|--|\n",
        "|f(x)|20%|25%|25%|20%|10%|"
      ],
      "metadata": {
        "id": "1SWC5j0DrX3I"
      }
    },
    {
      "cell_type": "markdown",
      "source": [
        "### **3. Determine la distribución de probabilidad acumulada**"
      ],
      "metadata": {
        "id": "KvT4nuMMTTMg"
      }
    },
    {
      "cell_type": "markdown",
      "source": [
        "|Periódicos|30|40|50|60|70|  \n",
        "|----------|--|--|--|--|--|\n",
        "|f(x)|20%|25%|25%|20%|10%|  \n",
        "|F(x)|0.20|0.45|0.70|0.90|1.00|"
      ],
      "metadata": {
        "id": "RnGfCd5nrgMd"
      }
    },
    {
      "cell_type": "markdown",
      "source": [
        "### **4. Establezca el intervalo de números aleatorios correspondiente a cada valor**"
      ],
      "metadata": {
        "id": "XXl3JtaKV2fP"
      }
    },
    {
      "cell_type": "markdown",
      "source": [
        "|Periódicos|30|40|50|60|70|  \n",
        "|----------|--|--|--|--|--|\n",
        "|f(x)|20%|25%|25%|20%|10%|  \n",
        "|F(x)|0.20|0.45|0.70|0.90|1.00|  \n",
        "|Intervalos|0.00-0.19|0.20-0.44|0.45-0.69|0.70-0.89|0.90-1.00|"
      ],
      "metadata": {
        "id": "zrPgYVNxrqVy"
      }
    },
    {
      "cell_type": "markdown",
      "source": [
        "### **5. Genere números aleatorios**"
      ],
      "metadata": {
        "id": "jV3HcOfJpxk4"
      }
    },
    {
      "cell_type": "code",
      "source": [],
      "metadata": {
        "id": "q8NZoNztr6Zp"
      },
      "execution_count": null,
      "outputs": []
    }
  ]
}